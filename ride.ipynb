{
 "cells": [
  {
   "cell_type": "code",
   "execution_count": 5,
   "metadata": {},
   "outputs": [],
   "source": [
    "import pandas as pd\n",
    "import plotly.express as px\n",
    "import plotly.graph_objects as go"
   ]
  },
  {
   "cell_type": "code",
   "execution_count": 6,
   "metadata": {},
   "outputs": [
    {
     "data": {
      "text/html": [
       "<div>\n",
       "<style scoped>\n",
       "    .dataframe tbody tr th:only-of-type {\n",
       "        vertical-align: middle;\n",
       "    }\n",
       "\n",
       "    .dataframe tbody tr th {\n",
       "        vertical-align: top;\n",
       "    }\n",
       "\n",
       "    .dataframe thead th {\n",
       "        text-align: right;\n",
       "    }\n",
       "</style>\n",
       "<table border=\"1\" class=\"dataframe\">\n",
       "  <thead>\n",
       "    <tr style=\"text-align: right;\">\n",
       "      <th></th>\n",
       "      <th>Number_of_Riders</th>\n",
       "      <th>Number_of_Drivers</th>\n",
       "      <th>Location_Category</th>\n",
       "      <th>Customer_Loyalty_Status</th>\n",
       "      <th>Number_of_Past_Rides</th>\n",
       "      <th>Average_Ratings</th>\n",
       "      <th>Time_of_Booking</th>\n",
       "      <th>Vehicle_Type</th>\n",
       "      <th>Expected_Ride_Duration</th>\n",
       "      <th>Historical_Cost_of_Ride</th>\n",
       "    </tr>\n",
       "  </thead>\n",
       "  <tbody>\n",
       "    <tr>\n",
       "      <th>0</th>\n",
       "      <td>90</td>\n",
       "      <td>45</td>\n",
       "      <td>Urban</td>\n",
       "      <td>Silver</td>\n",
       "      <td>13</td>\n",
       "      <td>4.47</td>\n",
       "      <td>Night</td>\n",
       "      <td>Premium</td>\n",
       "      <td>90</td>\n",
       "      <td>284.257273</td>\n",
       "    </tr>\n",
       "    <tr>\n",
       "      <th>1</th>\n",
       "      <td>58</td>\n",
       "      <td>39</td>\n",
       "      <td>Suburban</td>\n",
       "      <td>Silver</td>\n",
       "      <td>72</td>\n",
       "      <td>4.06</td>\n",
       "      <td>Evening</td>\n",
       "      <td>Economy</td>\n",
       "      <td>43</td>\n",
       "      <td>173.874753</td>\n",
       "    </tr>\n",
       "    <tr>\n",
       "      <th>2</th>\n",
       "      <td>42</td>\n",
       "      <td>31</td>\n",
       "      <td>Rural</td>\n",
       "      <td>Silver</td>\n",
       "      <td>0</td>\n",
       "      <td>3.99</td>\n",
       "      <td>Afternoon</td>\n",
       "      <td>Premium</td>\n",
       "      <td>76</td>\n",
       "      <td>329.795469</td>\n",
       "    </tr>\n",
       "    <tr>\n",
       "      <th>3</th>\n",
       "      <td>89</td>\n",
       "      <td>28</td>\n",
       "      <td>Rural</td>\n",
       "      <td>Regular</td>\n",
       "      <td>67</td>\n",
       "      <td>4.31</td>\n",
       "      <td>Afternoon</td>\n",
       "      <td>Premium</td>\n",
       "      <td>134</td>\n",
       "      <td>470.201232</td>\n",
       "    </tr>\n",
       "    <tr>\n",
       "      <th>4</th>\n",
       "      <td>78</td>\n",
       "      <td>22</td>\n",
       "      <td>Rural</td>\n",
       "      <td>Regular</td>\n",
       "      <td>74</td>\n",
       "      <td>3.77</td>\n",
       "      <td>Afternoon</td>\n",
       "      <td>Economy</td>\n",
       "      <td>149</td>\n",
       "      <td>579.681422</td>\n",
       "    </tr>\n",
       "  </tbody>\n",
       "</table>\n",
       "</div>"
      ],
      "text/plain": [
       "   Number_of_Riders  Number_of_Drivers Location_Category  \\\n",
       "0                90                 45             Urban   \n",
       "1                58                 39          Suburban   \n",
       "2                42                 31             Rural   \n",
       "3                89                 28             Rural   \n",
       "4                78                 22             Rural   \n",
       "\n",
       "  Customer_Loyalty_Status  Number_of_Past_Rides  Average_Ratings  \\\n",
       "0                  Silver                    13             4.47   \n",
       "1                  Silver                    72             4.06   \n",
       "2                  Silver                     0             3.99   \n",
       "3                 Regular                    67             4.31   \n",
       "4                 Regular                    74             3.77   \n",
       "\n",
       "  Time_of_Booking Vehicle_Type  Expected_Ride_Duration  \\\n",
       "0           Night      Premium                      90   \n",
       "1         Evening      Economy                      43   \n",
       "2       Afternoon      Premium                      76   \n",
       "3       Afternoon      Premium                     134   \n",
       "4       Afternoon      Economy                     149   \n",
       "\n",
       "   Historical_Cost_of_Ride  \n",
       "0               284.257273  \n",
       "1               173.874753  \n",
       "2               329.795469  \n",
       "3               470.201232  \n",
       "4               579.681422  "
      ]
     },
     "execution_count": 6,
     "metadata": {},
     "output_type": "execute_result"
    }
   ],
   "source": [
    "data=pd.read_csv(r\"C:\\vs\\rideshare\\dynamic_pricing.csv\")\n",
    "data.head()\n",
    "     "
   ]
  },
  {
   "cell_type": "code",
   "execution_count": 7,
   "metadata": {},
   "outputs": [
    {
     "data": {
      "text/html": [
       "<div>\n",
       "<style scoped>\n",
       "    .dataframe tbody tr th:only-of-type {\n",
       "        vertical-align: middle;\n",
       "    }\n",
       "\n",
       "    .dataframe tbody tr th {\n",
       "        vertical-align: top;\n",
       "    }\n",
       "\n",
       "    .dataframe thead th {\n",
       "        text-align: right;\n",
       "    }\n",
       "</style>\n",
       "<table border=\"1\" class=\"dataframe\">\n",
       "  <thead>\n",
       "    <tr style=\"text-align: right;\">\n",
       "      <th></th>\n",
       "      <th>Number_of_Riders</th>\n",
       "      <th>Number_of_Drivers</th>\n",
       "      <th>Number_of_Past_Rides</th>\n",
       "      <th>Average_Ratings</th>\n",
       "      <th>Expected_Ride_Duration</th>\n",
       "      <th>Historical_Cost_of_Ride</th>\n",
       "    </tr>\n",
       "  </thead>\n",
       "  <tbody>\n",
       "    <tr>\n",
       "      <th>count</th>\n",
       "      <td>1000.000000</td>\n",
       "      <td>1000.000000</td>\n",
       "      <td>1000.000000</td>\n",
       "      <td>1000.000000</td>\n",
       "      <td>1000.00000</td>\n",
       "      <td>1000.000000</td>\n",
       "    </tr>\n",
       "    <tr>\n",
       "      <th>mean</th>\n",
       "      <td>60.372000</td>\n",
       "      <td>27.076000</td>\n",
       "      <td>50.031000</td>\n",
       "      <td>4.257220</td>\n",
       "      <td>99.58800</td>\n",
       "      <td>372.502623</td>\n",
       "    </tr>\n",
       "    <tr>\n",
       "      <th>std</th>\n",
       "      <td>23.701506</td>\n",
       "      <td>19.068346</td>\n",
       "      <td>29.313774</td>\n",
       "      <td>0.435781</td>\n",
       "      <td>49.16545</td>\n",
       "      <td>187.158756</td>\n",
       "    </tr>\n",
       "    <tr>\n",
       "      <th>min</th>\n",
       "      <td>20.000000</td>\n",
       "      <td>5.000000</td>\n",
       "      <td>0.000000</td>\n",
       "      <td>3.500000</td>\n",
       "      <td>10.00000</td>\n",
       "      <td>25.993449</td>\n",
       "    </tr>\n",
       "    <tr>\n",
       "      <th>25%</th>\n",
       "      <td>40.000000</td>\n",
       "      <td>11.000000</td>\n",
       "      <td>25.000000</td>\n",
       "      <td>3.870000</td>\n",
       "      <td>59.75000</td>\n",
       "      <td>221.365202</td>\n",
       "    </tr>\n",
       "    <tr>\n",
       "      <th>50%</th>\n",
       "      <td>60.000000</td>\n",
       "      <td>22.000000</td>\n",
       "      <td>51.000000</td>\n",
       "      <td>4.270000</td>\n",
       "      <td>102.00000</td>\n",
       "      <td>362.019426</td>\n",
       "    </tr>\n",
       "    <tr>\n",
       "      <th>75%</th>\n",
       "      <td>81.000000</td>\n",
       "      <td>38.000000</td>\n",
       "      <td>75.000000</td>\n",
       "      <td>4.632500</td>\n",
       "      <td>143.00000</td>\n",
       "      <td>510.497504</td>\n",
       "    </tr>\n",
       "    <tr>\n",
       "      <th>max</th>\n",
       "      <td>100.000000</td>\n",
       "      <td>89.000000</td>\n",
       "      <td>100.000000</td>\n",
       "      <td>5.000000</td>\n",
       "      <td>180.00000</td>\n",
       "      <td>836.116419</td>\n",
       "    </tr>\n",
       "  </tbody>\n",
       "</table>\n",
       "</div>"
      ],
      "text/plain": [
       "       Number_of_Riders  Number_of_Drivers  Number_of_Past_Rides  \\\n",
       "count       1000.000000        1000.000000           1000.000000   \n",
       "mean          60.372000          27.076000             50.031000   \n",
       "std           23.701506          19.068346             29.313774   \n",
       "min           20.000000           5.000000              0.000000   \n",
       "25%           40.000000          11.000000             25.000000   \n",
       "50%           60.000000          22.000000             51.000000   \n",
       "75%           81.000000          38.000000             75.000000   \n",
       "max          100.000000          89.000000            100.000000   \n",
       "\n",
       "       Average_Ratings  Expected_Ride_Duration  Historical_Cost_of_Ride  \n",
       "count      1000.000000              1000.00000              1000.000000  \n",
       "mean          4.257220                99.58800               372.502623  \n",
       "std           0.435781                49.16545               187.158756  \n",
       "min           3.500000                10.00000                25.993449  \n",
       "25%           3.870000                59.75000               221.365202  \n",
       "50%           4.270000               102.00000               362.019426  \n",
       "75%           4.632500               143.00000               510.497504  \n",
       "max           5.000000               180.00000               836.116419  "
      ]
     },
     "execution_count": 7,
     "metadata": {},
     "output_type": "execute_result"
    }
   ],
   "source": [
    "data.describe()"
   ]
  },
  {
   "cell_type": "code",
   "execution_count": 10,
   "metadata": {},
   "outputs": [
    {
     "data": {
      "application/vnd.plotly.v1+json": {
       "config": {
        "plotlyServerURL": "https://plot.ly"
       },
       "data": [
        {
         "hovertemplate": "Expected_Ride_Duration=%{x}<br>Historical_Cost_of_Ride=%{y}<extra></extra>",
         "legendgroup": "",
         "marker": {
          "color": "#636efa",
          "symbol": "circle"
         },
         "mode": "markers",
         "name": "",
         "orientation": "v",
         "showlegend": false,
         "type": "scatter",
         "x": {
          "bdata": "WgArAEwAhgCVAIAAEAAvAIAAgACnAJAApABTAGYAjAA2AA8AFgBXAAsADwCLAC0AQQCiAB4AngCBAIMAUQCZADAAaQBNAFsAXgBlAFkAqgBcAC0AfQCmAHQAWwChAGAAIAB7AHUANQBBAHAAagCWAEQAgABZAF4ARQBiAB0AUQCkAFsAkwAcAKkAQABiAA8AQwBfAIQAYAA8AHAAKABOAFIAYgCPADQAVgCMABIAMAAtAKcAcQBQADoAfgBfAGkAnACaAIoALQCYAC0AgwCYADUAEAA8AHkApgAqAKEALwArAKsAiAA1AF0ADQB9AFkAeABHAH8AbAChAK4AqwAKAIwAmgCUAHkACwCYAF0AFwAnAIQAWgAZAC4AoACWADQAFwBdAA0AfQAtAH4ACgBwAIwAXAAxALAArwAmAKAAngBDAJQAjABtADAArwBUAAoAkQAVAEgAVwCLAEsADgBgAB8AVwA1AFUAOABEACQAGAAaAK0AVwCLAD0ArwAzAKwAqgB+AC8ALQCCAIYAYQCLAEcATQA0AKQAPwBZAHcAkgB/AHMAOACkAJ0AsABFAGQAGwCnAHcANQByAKIATQBCAKQACgCvAB4ADgCAACQAYAAqAEcAHwCuAGAAfwCNAIEAlwAaAGcAVQBzAHYAYwAMAFAAsQCTACAAqABfAJAARQBnAJ8AWgBIAD8AjwCjAFYARACzACEAqwBIACAAfgCjAGUAhQCyAJoAhgBwAIIAkACuAIYAsACBAFcAEgArAIQAfAB0AEIAlQBbAKkARgAYAH8AJQCnALQAdABuADwATwBHAGoAVQCdAIUApgCtAIYAjABuAK4AOACjAKIAggBgAD0AMgAtAK0AWgBgAJ4AfgCdAIYArwAoAGoAmAAsAGQAZgBFAA8AgwASAB0AFgCjAGQAbgBhAIgAgwCSAJMAQACWAEIAZABCAFYAowCNADoASwByAJAAagCoACIApgBuADAAWgBjAEUAoACDAGQAGABzAH8AcACRADEAQABlAKkALQANAI4APAAoAIYAZwCiAJgAWABpAHkAGgC0AD4AhABHACYAFwCJAFAAOACCAEsAXwBiABwAEwB9ABcAHgCsAEQAIwBXAHQAjwAKAG0APAAQACMAFgCSAKgAcwAcAEkACwAfAD8AIACcAIQAJQBXALQAswBMAAoAHgCnAJoANAAWAG8AlAAjADgAJwCVADMAPQAMADkAVQCXAGoAEgCoAIIAewCPADkAIABuAKIAQQClAI0ArACbAEoAjgAmAHwAZwA1AE0AMwCtAEUAIABGAI8AYQCoAHsAkwAYAK4ASwAkABAALgAqAH8AnwCgAJEALgBOADIAQQB8AJQASwCNAFAAKwCtAFMAKQCmADAAawCEAHIAXgBzAEkASAChAGsAeQBvAH0AOwCZAEoAlgBUAGYAfgBvAFMAkwATAIoAPQByAE0ATABTAJ0AfwBGAEoAiwCKAJwAdQA3AKQAjgAWADcAIABrAHkAcQAxAIIAlQB5AJ8AUwA0AA4AIQCeAFUAHQCrADoANQA5AG4AHwBlACwAGAAWAAoAFwCdALMAKQCpABMAbwCWALEARACWAJMAoQCwAIAAcwB+AGoAmgB5AGUAQgCOAIAAbwCoAIgAEgBQAGUAggBxAE4AcwBsAD4AgQBrADUAfQCdAKsAWgB2AFoAMgA8AJMADACiAJAAVgCsAEUAagCpAEAAjQCqACMAkQBmAF4AFQAsAF4AsgByAKYAkgCiABAAVwCCAC0AqgB2AJcAeQCwAJMAEAAdAIEAtABPAB8APQAPACIAaQB5AJIADQCXAC8AhABsAIcAJgATALQAbwAMAFUAfABwAEYADQClAEwAjQBnAGkAEgCwAGMAawBKADAASQCsAFcAKwCYACcAFQBrABoAYgBDAK0AlwCwAB0AigAvAFMAfQBTADMAjABMABAASABvABQAgABAAFEAawCaALQAogCkAJgAnQCsAIYApwBvABAAnwCUACYAkACaALMAegCsAKMAQwBhACkAmgBBAJQAgQCaAHQAkgBPAF0AmQA8AI4AnQB7AHYAjQCrAKcAIQAdAA0ASABtAD0ATQBtAFYAegC0ADEAFACVAIUAFABnAFAAQACoACYAUwALACAAFQCwAGwAPgCbAHMAsgBcAKQALwBWAHoAMQCnAEQAZQCTABAAegBuAE4AaQCqABoAngCoAIsAGgCbAIwASwAkAG0AVQBcAF0AYwBPAJAAmQCWAE0AaACsAGQAjQCJAFgAGQCHAEwAZABWAC4AXAB4AHoAQgBnAJkAXgAgADIApwCPAGcAVACQAB0AqQB7AAoADQCTAG8AIwBBAFwAsQByAAwAfwCNAC0AlwChAH4AiQA+ADAAoABKAEYAcQCXAGsAcwBGADcAdQCzAIUAbgBFADcAGQAtAGEAUQBmAG4AhgAuACUArQChAFYAHwAPALEAUgAyAAsAgQCfABgAqQBkACIAiwCQAJQAWQBEAG0AogBJAHEAkwAlAJsATAAUAHUAIABfADIAaQCMACYAWQAcAKYAYQBCAKoAgQBJAGMAbQC0AFkAYgCKAG0AMwClAEoAigCpAK8AGAAdAF8AUQBjALEAHAB0ALIAlQCuAIIAQwAPAHIAKgCCAKAAnAARAAsAXgAoADoAkwA=",
          "dtype": "i2"
         },
         "xaxis": "x",
         "y": {
          "bdata": "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",
          "dtype": "f8"
         },
         "yaxis": "y"
        },
        {
         "hovertemplate": "<b>OLS trendline</b><br>Historical_Cost_of_Ride = 3.53091 * Expected_Ride_Duration + 20.8668<br>R<sup>2</sup>=0.860344<br><br>Expected_Ride_Duration=%{x}<br>Historical_Cost_of_Ride=%{y} <b>(trend)</b><extra></extra>",
         "legendgroup": "",
         "marker": {
          "color": "#636efa",
          "symbol": "circle"
         },
         "mode": "lines",
         "name": "",
         "showlegend": false,
         "type": "scatter",
         "x": {
          "bdata": "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",
          "dtype": "i2"
         },
         "xaxis": "x",
         "y": {
          "bdata": "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",
          "dtype": "f8"
         },
         "yaxis": "y"
        }
       ],
       "layout": {
        "legend": {
         "tracegroupgap": 0
        },
        "template": {
         "data": {
          "bar": [
           {
            "error_x": {
             "color": "#2a3f5f"
            },
            "error_y": {
             "color": "#2a3f5f"
            },
            "marker": {
             "line": {
              "color": "#E5ECF6",
              "width": 0.5
             },
             "pattern": {
              "fillmode": "overlay",
              "size": 10,
              "solidity": 0.2
             }
            },
            "type": "bar"
           }
          ],
          "barpolar": [
           {
            "marker": {
             "line": {
              "color": "#E5ECF6",
              "width": 0.5
             },
             "pattern": {
              "fillmode": "overlay",
              "size": 10,
              "solidity": 0.2
             }
            },
            "type": "barpolar"
           }
          ],
          "carpet": [
           {
            "aaxis": {
             "endlinecolor": "#2a3f5f",
             "gridcolor": "white",
             "linecolor": "white",
             "minorgridcolor": "white",
             "startlinecolor": "#2a3f5f"
            },
            "baxis": {
             "endlinecolor": "#2a3f5f",
             "gridcolor": "white",
             "linecolor": "white",
             "minorgridcolor": "white",
             "startlinecolor": "#2a3f5f"
            },
            "type": "carpet"
           }
          ],
          "choropleth": [
           {
            "colorbar": {
             "outlinewidth": 0,
             "ticks": ""
            },
            "type": "choropleth"
           }
          ],
          "contour": [
           {
            "colorbar": {
             "outlinewidth": 0,
             "ticks": ""
            },
            "colorscale": [
             [
              0,
              "#0d0887"
             ],
             [
              0.1111111111111111,
              "#46039f"
             ],
             [
              0.2222222222222222,
              "#7201a8"
             ],
             [
              0.3333333333333333,
              "#9c179e"
             ],
             [
              0.4444444444444444,
              "#bd3786"
             ],
             [
              0.5555555555555556,
              "#d8576b"
             ],
             [
              0.6666666666666666,
              "#ed7953"
             ],
             [
              0.7777777777777778,
              "#fb9f3a"
             ],
             [
              0.8888888888888888,
              "#fdca26"
             ],
             [
              1,
              "#f0f921"
             ]
            ],
            "type": "contour"
           }
          ],
          "contourcarpet": [
           {
            "colorbar": {
             "outlinewidth": 0,
             "ticks": ""
            },
            "type": "contourcarpet"
           }
          ],
          "heatmap": [
           {
            "colorbar": {
             "outlinewidth": 0,
             "ticks": ""
            },
            "colorscale": [
             [
              0,
              "#0d0887"
             ],
             [
              0.1111111111111111,
              "#46039f"
             ],
             [
              0.2222222222222222,
              "#7201a8"
             ],
             [
              0.3333333333333333,
              "#9c179e"
             ],
             [
              0.4444444444444444,
              "#bd3786"
             ],
             [
              0.5555555555555556,
              "#d8576b"
             ],
             [
              0.6666666666666666,
              "#ed7953"
             ],
             [
              0.7777777777777778,
              "#fb9f3a"
             ],
             [
              0.8888888888888888,
              "#fdca26"
             ],
             [
              1,
              "#f0f921"
             ]
            ],
            "type": "heatmap"
           }
          ],
          "histogram": [
           {
            "marker": {
             "pattern": {
              "fillmode": "overlay",
              "size": 10,
              "solidity": 0.2
             }
            },
            "type": "histogram"
           }
          ],
          "histogram2d": [
           {
            "colorbar": {
             "outlinewidth": 0,
             "ticks": ""
            },
            "colorscale": [
             [
              0,
              "#0d0887"
             ],
             [
              0.1111111111111111,
              "#46039f"
             ],
             [
              0.2222222222222222,
              "#7201a8"
             ],
             [
              0.3333333333333333,
              "#9c179e"
             ],
             [
              0.4444444444444444,
              "#bd3786"
             ],
             [
              0.5555555555555556,
              "#d8576b"
             ],
             [
              0.6666666666666666,
              "#ed7953"
             ],
             [
              0.7777777777777778,
              "#fb9f3a"
             ],
             [
              0.8888888888888888,
              "#fdca26"
             ],
             [
              1,
              "#f0f921"
             ]
            ],
            "type": "histogram2d"
           }
          ],
          "histogram2dcontour": [
           {
            "colorbar": {
             "outlinewidth": 0,
             "ticks": ""
            },
            "colorscale": [
             [
              0,
              "#0d0887"
             ],
             [
              0.1111111111111111,
              "#46039f"
             ],
             [
              0.2222222222222222,
              "#7201a8"
             ],
             [
              0.3333333333333333,
              "#9c179e"
             ],
             [
              0.4444444444444444,
              "#bd3786"
             ],
             [
              0.5555555555555556,
              "#d8576b"
             ],
             [
              0.6666666666666666,
              "#ed7953"
             ],
             [
              0.7777777777777778,
              "#fb9f3a"
             ],
             [
              0.8888888888888888,
              "#fdca26"
             ],
             [
              1,
              "#f0f921"
             ]
            ],
            "type": "histogram2dcontour"
           }
          ],
          "mesh3d": [
           {
            "colorbar": {
             "outlinewidth": 0,
             "ticks": ""
            },
            "type": "mesh3d"
           }
          ],
          "parcoords": [
           {
            "line": {
             "colorbar": {
              "outlinewidth": 0,
              "ticks": ""
             }
            },
            "type": "parcoords"
           }
          ],
          "pie": [
           {
            "automargin": true,
            "type": "pie"
           }
          ],
          "scatter": [
           {
            "fillpattern": {
             "fillmode": "overlay",
             "size": 10,
             "solidity": 0.2
            },
            "type": "scatter"
           }
          ],
          "scatter3d": [
           {
            "line": {
             "colorbar": {
              "outlinewidth": 0,
              "ticks": ""
             }
            },
            "marker": {
             "colorbar": {
              "outlinewidth": 0,
              "ticks": ""
             }
            },
            "type": "scatter3d"
           }
          ],
          "scattercarpet": [
           {
            "marker": {
             "colorbar": {
              "outlinewidth": 0,
              "ticks": ""
             }
            },
            "type": "scattercarpet"
           }
          ],
          "scattergeo": [
           {
            "marker": {
             "colorbar": {
              "outlinewidth": 0,
              "ticks": ""
             }
            },
            "type": "scattergeo"
           }
          ],
          "scattergl": [
           {
            "marker": {
             "colorbar": {
              "outlinewidth": 0,
              "ticks": ""
             }
            },
            "type": "scattergl"
           }
          ],
          "scattermap": [
           {
            "marker": {
             "colorbar": {
              "outlinewidth": 0,
              "ticks": ""
             }
            },
            "type": "scattermap"
           }
          ],
          "scattermapbox": [
           {
            "marker": {
             "colorbar": {
              "outlinewidth": 0,
              "ticks": ""
             }
            },
            "type": "scattermapbox"
           }
          ],
          "scatterpolar": [
           {
            "marker": {
             "colorbar": {
              "outlinewidth": 0,
              "ticks": ""
             }
            },
            "type": "scatterpolar"
           }
          ],
          "scatterpolargl": [
           {
            "marker": {
             "colorbar": {
              "outlinewidth": 0,
              "ticks": ""
             }
            },
            "type": "scatterpolargl"
           }
          ],
          "scatterternary": [
           {
            "marker": {
             "colorbar": {
              "outlinewidth": 0,
              "ticks": ""
             }
            },
            "type": "scatterternary"
           }
          ],
          "surface": [
           {
            "colorbar": {
             "outlinewidth": 0,
             "ticks": ""
            },
            "colorscale": [
             [
              0,
              "#0d0887"
             ],
             [
              0.1111111111111111,
              "#46039f"
             ],
             [
              0.2222222222222222,
              "#7201a8"
             ],
             [
              0.3333333333333333,
              "#9c179e"
             ],
             [
              0.4444444444444444,
              "#bd3786"
             ],
             [
              0.5555555555555556,
              "#d8576b"
             ],
             [
              0.6666666666666666,
              "#ed7953"
             ],
             [
              0.7777777777777778,
              "#fb9f3a"
             ],
             [
              0.8888888888888888,
              "#fdca26"
             ],
             [
              1,
              "#f0f921"
             ]
            ],
            "type": "surface"
           }
          ],
          "table": [
           {
            "cells": {
             "fill": {
              "color": "#EBF0F8"
             },
             "line": {
              "color": "white"
             }
            },
            "header": {
             "fill": {
              "color": "#C8D4E3"
             },
             "line": {
              "color": "white"
             }
            },
            "type": "table"
           }
          ]
         },
         "layout": {
          "annotationdefaults": {
           "arrowcolor": "#2a3f5f",
           "arrowhead": 0,
           "arrowwidth": 1
          },
          "autotypenumbers": "strict",
          "coloraxis": {
           "colorbar": {
            "outlinewidth": 0,
            "ticks": ""
           }
          },
          "colorscale": {
           "diverging": [
            [
             0,
             "#8e0152"
            ],
            [
             0.1,
             "#c51b7d"
            ],
            [
             0.2,
             "#de77ae"
            ],
            [
             0.3,
             "#f1b6da"
            ],
            [
             0.4,
             "#fde0ef"
            ],
            [
             0.5,
             "#f7f7f7"
            ],
            [
             0.6,
             "#e6f5d0"
            ],
            [
             0.7,
             "#b8e186"
            ],
            [
             0.8,
             "#7fbc41"
            ],
            [
             0.9,
             "#4d9221"
            ],
            [
             1,
             "#276419"
            ]
           ],
           "sequential": [
            [
             0,
             "#0d0887"
            ],
            [
             0.1111111111111111,
             "#46039f"
            ],
            [
             0.2222222222222222,
             "#7201a8"
            ],
            [
             0.3333333333333333,
             "#9c179e"
            ],
            [
             0.4444444444444444,
             "#bd3786"
            ],
            [
             0.5555555555555556,
             "#d8576b"
            ],
            [
             0.6666666666666666,
             "#ed7953"
            ],
            [
             0.7777777777777778,
             "#fb9f3a"
            ],
            [
             0.8888888888888888,
             "#fdca26"
            ],
            [
             1,
             "#f0f921"
            ]
           ],
           "sequentialminus": [
            [
             0,
             "#0d0887"
            ],
            [
             0.1111111111111111,
             "#46039f"
            ],
            [
             0.2222222222222222,
             "#7201a8"
            ],
            [
             0.3333333333333333,
             "#9c179e"
            ],
            [
             0.4444444444444444,
             "#bd3786"
            ],
            [
             0.5555555555555556,
             "#d8576b"
            ],
            [
             0.6666666666666666,
             "#ed7953"
            ],
            [
             0.7777777777777778,
             "#fb9f3a"
            ],
            [
             0.8888888888888888,
             "#fdca26"
            ],
            [
             1,
             "#f0f921"
            ]
           ]
          },
          "colorway": [
           "#636efa",
           "#EF553B",
           "#00cc96",
           "#ab63fa",
           "#FFA15A",
           "#19d3f3",
           "#FF6692",
           "#B6E880",
           "#FF97FF",
           "#FECB52"
          ],
          "font": {
           "color": "#2a3f5f"
          },
          "geo": {
           "bgcolor": "white",
           "lakecolor": "white",
           "landcolor": "#E5ECF6",
           "showlakes": true,
           "showland": true,
           "subunitcolor": "white"
          },
          "hoverlabel": {
           "align": "left"
          },
          "hovermode": "closest",
          "mapbox": {
           "style": "light"
          },
          "paper_bgcolor": "white",
          "plot_bgcolor": "#E5ECF6",
          "polar": {
           "angularaxis": {
            "gridcolor": "white",
            "linecolor": "white",
            "ticks": ""
           },
           "bgcolor": "#E5ECF6",
           "radialaxis": {
            "gridcolor": "white",
            "linecolor": "white",
            "ticks": ""
           }
          },
          "scene": {
           "xaxis": {
            "backgroundcolor": "#E5ECF6",
            "gridcolor": "white",
            "gridwidth": 2,
            "linecolor": "white",
            "showbackground": true,
            "ticks": "",
            "zerolinecolor": "white"
           },
           "yaxis": {
            "backgroundcolor": "#E5ECF6",
            "gridcolor": "white",
            "gridwidth": 2,
            "linecolor": "white",
            "showbackground": true,
            "ticks": "",
            "zerolinecolor": "white"
           },
           "zaxis": {
            "backgroundcolor": "#E5ECF6",
            "gridcolor": "white",
            "gridwidth": 2,
            "linecolor": "white",
            "showbackground": true,
            "ticks": "",
            "zerolinecolor": "white"
           }
          },
          "shapedefaults": {
           "line": {
            "color": "#2a3f5f"
           }
          },
          "ternary": {
           "aaxis": {
            "gridcolor": "white",
            "linecolor": "white",
            "ticks": ""
           },
           "baxis": {
            "gridcolor": "white",
            "linecolor": "white",
            "ticks": ""
           },
           "bgcolor": "#E5ECF6",
           "caxis": {
            "gridcolor": "white",
            "linecolor": "white",
            "ticks": ""
           }
          },
          "title": {
           "x": 0.05
          },
          "xaxis": {
           "automargin": true,
           "gridcolor": "white",
           "linecolor": "white",
           "ticks": "",
           "title": {
            "standoff": 15
           },
           "zerolinecolor": "white",
           "zerolinewidth": 2
          },
          "yaxis": {
           "automargin": true,
           "gridcolor": "white",
           "linecolor": "white",
           "ticks": "",
           "title": {
            "standoff": 15
           },
           "zerolinecolor": "white",
           "zerolinewidth": 2
          }
         }
        },
        "title": {
         "text": "Expected Ride Duration vs. Historical Cost of Ride"
        },
        "xaxis": {
         "anchor": "y",
         "domain": [
          0,
          1
         ],
         "title": {
          "text": "Expected_Ride_Duration"
         }
        },
        "yaxis": {
         "anchor": "x",
         "domain": [
          0,
          1
         ],
         "title": {
          "text": "Historical_Cost_of_Ride"
         }
        }
       }
      }
     },
     "metadata": {},
     "output_type": "display_data"
    }
   ],
   "source": [
    "fig = px.scatter(data, x='Expected_Ride_Duration',\n",
    "                 y='Historical_Cost_of_Ride',\n",
    "                 title='Expected Ride Duration vs. Historical Cost of Ride',\n",
    "                 trendline='ols')\n",
    "fig.show()"
   ]
  },
  {
   "cell_type": "code",
   "execution_count": 11,
   "metadata": {},
   "outputs": [],
   "source": [
    "import numpy as np\n",
    "\n",
    "# Calculate demand_multiplier based on percentile for high and low demand\n",
    "high_demand_percentile = 75\n",
    "low_demand_percentile = 25\n",
    "\n",
    "data['demand_multiplier'] = np.where(data['Number_of_Riders'] > np.percentile(data['Number_of_Riders'], high_demand_percentile),\n",
    "                                     data['Number_of_Riders'] / np.percentile(data['Number_of_Riders'], high_demand_percentile),\n",
    "                                     data['Number_of_Riders'] / np.percentile(data['Number_of_Riders'], low_demand_percentile))\n",
    "\n",
    "# Calculate supply_multiplier based on percentile for high and low supply\n",
    "high_supply_percentile = 75\n",
    "low_supply_percentile = 25\n",
    "\n",
    "data['supply_multiplier'] = np.where(data['Number_of_Drivers'] > np.percentile(data['Number_of_Drivers'], low_supply_percentile),\n",
    "                                     np.percentile(data['Number_of_Drivers'], high_supply_percentile) / data['Number_of_Drivers'],\n",
    "                                     np.percentile(data['Number_of_Drivers'], low_supply_percentile) / data['Number_of_Drivers'])\n",
    "\n",
    "# Define price adjustment factors for high and low demand/supply\n",
    "demand_threshold_high = 1.2  # Higher demand threshold\n",
    "demand_threshold_low = 0.8  # Lower demand threshold\n",
    "supply_threshold_high = 0.8  # Higher supply threshold\n",
    "supply_threshold_low = 1.2  # Lower supply threshold\n",
    "\n",
    "# Calculate adjusted_ride_cost for dynamic pricing\n",
    "data['adjusted_ride_cost'] = data['Historical_Cost_of_Ride'] * (\n",
    "    np.maximum(data['demand_multiplier'], demand_threshold_low) *\n",
    "    np.maximum(data['supply_multiplier'], supply_threshold_high)\n",
    ")"
   ]
  },
  {
   "cell_type": "code",
   "execution_count": 12,
   "metadata": {},
   "outputs": [],
   "source": [
    "#In the above code, we first calculated the demand multiplier by comparing the number of riders to percentiles representing high and low demand levels.\n",
    "#If the number of riders exceeds the percentile for high demand, the demand multiplier is set as the number of riders divided by the high-demand percentile.\n",
    "#Otherwise, if the number of riders falls below the percentile for low demand, the demand multiplier is set as the number of riders divided by the low-demand percentile.\n",
    "\n",
    "#Next, we calculated the supply multiplier by comparing the number of drivers to percentiles representing high and low supply levels.\n",
    "#If the number of drivers exceeds the low-supplypercentile, the supply multiplier is set as the high-supply percentile divided by the number of drivers.\n",
    "#On the other hand, if the number of drivers is below the low-supply percentile, the supply multiplier is set as the low-supply percentile divided by the number of drivers.\n",
    "\n",
    "#Finally, we calculated the adjusted ride cost for dynamic pricing.\n",
    "#It multiplies the historical cost of the ride by the maximum of the demand multiplier and a lower threshold (demand_threshold_low),\n",
    "#and also by the maximum of the supply multiplier and an upper threshold (supply_threshold_high).\n",
    "#This multiplication ensures that the adjusted ride cost captures the combined effect of demand and supply multipliers, with the thresholds serving\n",
    "#as caps or floors to control the price adjustments.\n",
    "\n",
    "#Now let’s calculate the profit percentage we got after implementing this dynamic pricing strategy:"
   ]
  },
  {
   "cell_type": "code",
   "execution_count": 13,
   "metadata": {},
   "outputs": [
    {
     "data": {
      "application/vnd.plotly.v1+json": {
       "config": {
        "plotlyServerURL": "https://plot.ly"
       },
       "data": [
        {
         "hole": 0.4,
         "labels": [
          "Profitable Rides",
          "Loss Rides"
         ],
         "type": "pie",
         "values": [
          826,
          173
         ]
        }
       ],
       "layout": {
        "template": {
         "data": {
          "bar": [
           {
            "error_x": {
             "color": "#2a3f5f"
            },
            "error_y": {
             "color": "#2a3f5f"
            },
            "marker": {
             "line": {
              "color": "#E5ECF6",
              "width": 0.5
             },
             "pattern": {
              "fillmode": "overlay",
              "size": 10,
              "solidity": 0.2
             }
            },
            "type": "bar"
           }
          ],
          "barpolar": [
           {
            "marker": {
             "line": {
              "color": "#E5ECF6",
              "width": 0.5
             },
             "pattern": {
              "fillmode": "overlay",
              "size": 10,
              "solidity": 0.2
             }
            },
            "type": "barpolar"
           }
          ],
          "carpet": [
           {
            "aaxis": {
             "endlinecolor": "#2a3f5f",
             "gridcolor": "white",
             "linecolor": "white",
             "minorgridcolor": "white",
             "startlinecolor": "#2a3f5f"
            },
            "baxis": {
             "endlinecolor": "#2a3f5f",
             "gridcolor": "white",
             "linecolor": "white",
             "minorgridcolor": "white",
             "startlinecolor": "#2a3f5f"
            },
            "type": "carpet"
           }
          ],
          "choropleth": [
           {
            "colorbar": {
             "outlinewidth": 0,
             "ticks": ""
            },
            "type": "choropleth"
           }
          ],
          "contour": [
           {
            "colorbar": {
             "outlinewidth": 0,
             "ticks": ""
            },
            "colorscale": [
             [
              0,
              "#0d0887"
             ],
             [
              0.1111111111111111,
              "#46039f"
             ],
             [
              0.2222222222222222,
              "#7201a8"
             ],
             [
              0.3333333333333333,
              "#9c179e"
             ],
             [
              0.4444444444444444,
              "#bd3786"
             ],
             [
              0.5555555555555556,
              "#d8576b"
             ],
             [
              0.6666666666666666,
              "#ed7953"
             ],
             [
              0.7777777777777778,
              "#fb9f3a"
             ],
             [
              0.8888888888888888,
              "#fdca26"
             ],
             [
              1,
              "#f0f921"
             ]
            ],
            "type": "contour"
           }
          ],
          "contourcarpet": [
           {
            "colorbar": {
             "outlinewidth": 0,
             "ticks": ""
            },
            "type": "contourcarpet"
           }
          ],
          "heatmap": [
           {
            "colorbar": {
             "outlinewidth": 0,
             "ticks": ""
            },
            "colorscale": [
             [
              0,
              "#0d0887"
             ],
             [
              0.1111111111111111,
              "#46039f"
             ],
             [
              0.2222222222222222,
              "#7201a8"
             ],
             [
              0.3333333333333333,
              "#9c179e"
             ],
             [
              0.4444444444444444,
              "#bd3786"
             ],
             [
              0.5555555555555556,
              "#d8576b"
             ],
             [
              0.6666666666666666,
              "#ed7953"
             ],
             [
              0.7777777777777778,
              "#fb9f3a"
             ],
             [
              0.8888888888888888,
              "#fdca26"
             ],
             [
              1,
              "#f0f921"
             ]
            ],
            "type": "heatmap"
           }
          ],
          "histogram": [
           {
            "marker": {
             "pattern": {
              "fillmode": "overlay",
              "size": 10,
              "solidity": 0.2
             }
            },
            "type": "histogram"
           }
          ],
          "histogram2d": [
           {
            "colorbar": {
             "outlinewidth": 0,
             "ticks": ""
            },
            "colorscale": [
             [
              0,
              "#0d0887"
             ],
             [
              0.1111111111111111,
              "#46039f"
             ],
             [
              0.2222222222222222,
              "#7201a8"
             ],
             [
              0.3333333333333333,
              "#9c179e"
             ],
             [
              0.4444444444444444,
              "#bd3786"
             ],
             [
              0.5555555555555556,
              "#d8576b"
             ],
             [
              0.6666666666666666,
              "#ed7953"
             ],
             [
              0.7777777777777778,
              "#fb9f3a"
             ],
             [
              0.8888888888888888,
              "#fdca26"
             ],
             [
              1,
              "#f0f921"
             ]
            ],
            "type": "histogram2d"
           }
          ],
          "histogram2dcontour": [
           {
            "colorbar": {
             "outlinewidth": 0,
             "ticks": ""
            },
            "colorscale": [
             [
              0,
              "#0d0887"
             ],
             [
              0.1111111111111111,
              "#46039f"
             ],
             [
              0.2222222222222222,
              "#7201a8"
             ],
             [
              0.3333333333333333,
              "#9c179e"
             ],
             [
              0.4444444444444444,
              "#bd3786"
             ],
             [
              0.5555555555555556,
              "#d8576b"
             ],
             [
              0.6666666666666666,
              "#ed7953"
             ],
             [
              0.7777777777777778,
              "#fb9f3a"
             ],
             [
              0.8888888888888888,
              "#fdca26"
             ],
             [
              1,
              "#f0f921"
             ]
            ],
            "type": "histogram2dcontour"
           }
          ],
          "mesh3d": [
           {
            "colorbar": {
             "outlinewidth": 0,
             "ticks": ""
            },
            "type": "mesh3d"
           }
          ],
          "parcoords": [
           {
            "line": {
             "colorbar": {
              "outlinewidth": 0,
              "ticks": ""
             }
            },
            "type": "parcoords"
           }
          ],
          "pie": [
           {
            "automargin": true,
            "type": "pie"
           }
          ],
          "scatter": [
           {
            "fillpattern": {
             "fillmode": "overlay",
             "size": 10,
             "solidity": 0.2
            },
            "type": "scatter"
           }
          ],
          "scatter3d": [
           {
            "line": {
             "colorbar": {
              "outlinewidth": 0,
              "ticks": ""
             }
            },
            "marker": {
             "colorbar": {
              "outlinewidth": 0,
              "ticks": ""
             }
            },
            "type": "scatter3d"
           }
          ],
          "scattercarpet": [
           {
            "marker": {
             "colorbar": {
              "outlinewidth": 0,
              "ticks": ""
             }
            },
            "type": "scattercarpet"
           }
          ],
          "scattergeo": [
           {
            "marker": {
             "colorbar": {
              "outlinewidth": 0,
              "ticks": ""
             }
            },
            "type": "scattergeo"
           }
          ],
          "scattergl": [
           {
            "marker": {
             "colorbar": {
              "outlinewidth": 0,
              "ticks": ""
             }
            },
            "type": "scattergl"
           }
          ],
          "scattermap": [
           {
            "marker": {
             "colorbar": {
              "outlinewidth": 0,
              "ticks": ""
             }
            },
            "type": "scattermap"
           }
          ],
          "scattermapbox": [
           {
            "marker": {
             "colorbar": {
              "outlinewidth": 0,
              "ticks": ""
             }
            },
            "type": "scattermapbox"
           }
          ],
          "scatterpolar": [
           {
            "marker": {
             "colorbar": {
              "outlinewidth": 0,
              "ticks": ""
             }
            },
            "type": "scatterpolar"
           }
          ],
          "scatterpolargl": [
           {
            "marker": {
             "colorbar": {
              "outlinewidth": 0,
              "ticks": ""
             }
            },
            "type": "scatterpolargl"
           }
          ],
          "scatterternary": [
           {
            "marker": {
             "colorbar": {
              "outlinewidth": 0,
              "ticks": ""
             }
            },
            "type": "scatterternary"
           }
          ],
          "surface": [
           {
            "colorbar": {
             "outlinewidth": 0,
             "ticks": ""
            },
            "colorscale": [
             [
              0,
              "#0d0887"
             ],
             [
              0.1111111111111111,
              "#46039f"
             ],
             [
              0.2222222222222222,
              "#7201a8"
             ],
             [
              0.3333333333333333,
              "#9c179e"
             ],
             [
              0.4444444444444444,
              "#bd3786"
             ],
             [
              0.5555555555555556,
              "#d8576b"
             ],
             [
              0.6666666666666666,
              "#ed7953"
             ],
             [
              0.7777777777777778,
              "#fb9f3a"
             ],
             [
              0.8888888888888888,
              "#fdca26"
             ],
             [
              1,
              "#f0f921"
             ]
            ],
            "type": "surface"
           }
          ],
          "table": [
           {
            "cells": {
             "fill": {
              "color": "#EBF0F8"
             },
             "line": {
              "color": "white"
             }
            },
            "header": {
             "fill": {
              "color": "#C8D4E3"
             },
             "line": {
              "color": "white"
             }
            },
            "type": "table"
           }
          ]
         },
         "layout": {
          "annotationdefaults": {
           "arrowcolor": "#2a3f5f",
           "arrowhead": 0,
           "arrowwidth": 1
          },
          "autotypenumbers": "strict",
          "coloraxis": {
           "colorbar": {
            "outlinewidth": 0,
            "ticks": ""
           }
          },
          "colorscale": {
           "diverging": [
            [
             0,
             "#8e0152"
            ],
            [
             0.1,
             "#c51b7d"
            ],
            [
             0.2,
             "#de77ae"
            ],
            [
             0.3,
             "#f1b6da"
            ],
            [
             0.4,
             "#fde0ef"
            ],
            [
             0.5,
             "#f7f7f7"
            ],
            [
             0.6,
             "#e6f5d0"
            ],
            [
             0.7,
             "#b8e186"
            ],
            [
             0.8,
             "#7fbc41"
            ],
            [
             0.9,
             "#4d9221"
            ],
            [
             1,
             "#276419"
            ]
           ],
           "sequential": [
            [
             0,
             "#0d0887"
            ],
            [
             0.1111111111111111,
             "#46039f"
            ],
            [
             0.2222222222222222,
             "#7201a8"
            ],
            [
             0.3333333333333333,
             "#9c179e"
            ],
            [
             0.4444444444444444,
             "#bd3786"
            ],
            [
             0.5555555555555556,
             "#d8576b"
            ],
            [
             0.6666666666666666,
             "#ed7953"
            ],
            [
             0.7777777777777778,
             "#fb9f3a"
            ],
            [
             0.8888888888888888,
             "#fdca26"
            ],
            [
             1,
             "#f0f921"
            ]
           ],
           "sequentialminus": [
            [
             0,
             "#0d0887"
            ],
            [
             0.1111111111111111,
             "#46039f"
            ],
            [
             0.2222222222222222,
             "#7201a8"
            ],
            [
             0.3333333333333333,
             "#9c179e"
            ],
            [
             0.4444444444444444,
             "#bd3786"
            ],
            [
             0.5555555555555556,
             "#d8576b"
            ],
            [
             0.6666666666666666,
             "#ed7953"
            ],
            [
             0.7777777777777778,
             "#fb9f3a"
            ],
            [
             0.8888888888888888,
             "#fdca26"
            ],
            [
             1,
             "#f0f921"
            ]
           ]
          },
          "colorway": [
           "#636efa",
           "#EF553B",
           "#00cc96",
           "#ab63fa",
           "#FFA15A",
           "#19d3f3",
           "#FF6692",
           "#B6E880",
           "#FF97FF",
           "#FECB52"
          ],
          "font": {
           "color": "#2a3f5f"
          },
          "geo": {
           "bgcolor": "white",
           "lakecolor": "white",
           "landcolor": "#E5ECF6",
           "showlakes": true,
           "showland": true,
           "subunitcolor": "white"
          },
          "hoverlabel": {
           "align": "left"
          },
          "hovermode": "closest",
          "mapbox": {
           "style": "light"
          },
          "paper_bgcolor": "white",
          "plot_bgcolor": "#E5ECF6",
          "polar": {
           "angularaxis": {
            "gridcolor": "white",
            "linecolor": "white",
            "ticks": ""
           },
           "bgcolor": "#E5ECF6",
           "radialaxis": {
            "gridcolor": "white",
            "linecolor": "white",
            "ticks": ""
           }
          },
          "scene": {
           "xaxis": {
            "backgroundcolor": "#E5ECF6",
            "gridcolor": "white",
            "gridwidth": 2,
            "linecolor": "white",
            "showbackground": true,
            "ticks": "",
            "zerolinecolor": "white"
           },
           "yaxis": {
            "backgroundcolor": "#E5ECF6",
            "gridcolor": "white",
            "gridwidth": 2,
            "linecolor": "white",
            "showbackground": true,
            "ticks": "",
            "zerolinecolor": "white"
           },
           "zaxis": {
            "backgroundcolor": "#E5ECF6",
            "gridcolor": "white",
            "gridwidth": 2,
            "linecolor": "white",
            "showbackground": true,
            "ticks": "",
            "zerolinecolor": "white"
           }
          },
          "shapedefaults": {
           "line": {
            "color": "#2a3f5f"
           }
          },
          "ternary": {
           "aaxis": {
            "gridcolor": "white",
            "linecolor": "white",
            "ticks": ""
           },
           "baxis": {
            "gridcolor": "white",
            "linecolor": "white",
            "ticks": ""
           },
           "bgcolor": "#E5ECF6",
           "caxis": {
            "gridcolor": "white",
            "linecolor": "white",
            "ticks": ""
           }
          },
          "title": {
           "x": 0.05
          },
          "xaxis": {
           "automargin": true,
           "gridcolor": "white",
           "linecolor": "white",
           "ticks": "",
           "title": {
            "standoff": 15
           },
           "zerolinecolor": "white",
           "zerolinewidth": 2
          },
          "yaxis": {
           "automargin": true,
           "gridcolor": "white",
           "linecolor": "white",
           "ticks": "",
           "title": {
            "standoff": 15
           },
           "zerolinecolor": "white",
           "zerolinewidth": 2
          }
         }
        },
        "title": {
         "text": "Profitability of Rides (Dynamic Pricing vs. Historical Pricing)"
        }
       }
      }
     },
     "metadata": {},
     "output_type": "display_data"
    }
   ],
   "source": [
    "# Calculate the profit percentage for each ride\n",
    "data['profit_percentage'] = ((data['adjusted_ride_cost'] - data['Historical_Cost_of_Ride']) / data['Historical_Cost_of_Ride']) * 100\n",
    "# Identify profitable rides where profit percentage is positive\n",
    "profitable_rides = data[data['profit_percentage'] > 0]\n",
    "\n",
    "# Identify loss rides where profit percentage is negative\n",
    "loss_rides = data[data['profit_percentage'] < 0]\n",
    "\n",
    "\n",
    "import plotly.graph_objects as go\n",
    "\n",
    "# Calculate the count of profitable and loss rides\n",
    "profitable_count = len(profitable_rides)\n",
    "loss_count = len(loss_rides)\n",
    "\n",
    "# Create a donut chart to show the distribution of profitable and loss rides\n",
    "labels = ['Profitable Rides', 'Loss Rides']\n",
    "values = [profitable_count, loss_count]\n",
    "\n",
    "fig = go.Figure(data=[go.Pie(labels=labels, values=values, hole=0.4)])\n",
    "fig.update_layout(title='Profitability of Rides (Dynamic Pricing vs. Historical Pricing)')\n",
    "fig.show()\n",
    "     "
   ]
  },
  {
   "cell_type": "code",
   "execution_count": 14,
   "metadata": {},
   "outputs": [
    {
     "data": {
      "application/vnd.plotly.v1+json": {
       "config": {
        "plotlyServerURL": "https://plot.ly"
       },
       "data": [
        {
         "hovertemplate": "Expected_Ride_Duration=%{x}<br>adjusted_ride_cost=%{y}<extra></extra>",
         "legendgroup": "",
         "marker": {
          "color": "#636efa",
          "symbol": "circle"
         },
         "mode": "markers",
         "name": "",
         "orientation": "v",
         "showlegend": false,
         "type": "scatter",
         "x": {
          "bdata": "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",
          "dtype": "i2"
         },
         "xaxis": "x",
         "y": {
          "bdata": "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",
          "dtype": "f8"
         },
         "yaxis": "y"
        },
        {
         "hovertemplate": "<b>OLS trendline</b><br>adjusted_ride_cost = 6.41066 * Expected_Ride_Duration + 42.715<br>R<sup>2</sup>=0.426517<br><br>Expected_Ride_Duration=%{x}<br>adjusted_ride_cost=%{y} <b>(trend)</b><extra></extra>",
         "legendgroup": "",
         "marker": {
          "color": "#636efa",
          "symbol": "circle"
         },
         "mode": "lines",
         "name": "",
         "showlegend": false,
         "type": "scatter",
         "x": {
          "bdata": "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",
          "dtype": "i2"
         },
         "xaxis": "x",
         "y": {
          "bdata": "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",
          "dtype": "f8"
         },
         "yaxis": "y"
        }
       ],
       "layout": {
        "legend": {
         "tracegroupgap": 0
        },
        "template": {
         "data": {
          "bar": [
           {
            "error_x": {
             "color": "#2a3f5f"
            },
            "error_y": {
             "color": "#2a3f5f"
            },
            "marker": {
             "line": {
              "color": "#E5ECF6",
              "width": 0.5
             },
             "pattern": {
              "fillmode": "overlay",
              "size": 10,
              "solidity": 0.2
             }
            },
            "type": "bar"
           }
          ],
          "barpolar": [
           {
            "marker": {
             "line": {
              "color": "#E5ECF6",
              "width": 0.5
             },
             "pattern": {
              "fillmode": "overlay",
              "size": 10,
              "solidity": 0.2
             }
            },
            "type": "barpolar"
           }
          ],
          "carpet": [
           {
            "aaxis": {
             "endlinecolor": "#2a3f5f",
             "gridcolor": "white",
             "linecolor": "white",
             "minorgridcolor": "white",
             "startlinecolor": "#2a3f5f"
            },
            "baxis": {
             "endlinecolor": "#2a3f5f",
             "gridcolor": "white",
             "linecolor": "white",
             "minorgridcolor": "white",
             "startlinecolor": "#2a3f5f"
            },
            "type": "carpet"
           }
          ],
          "choropleth": [
           {
            "colorbar": {
             "outlinewidth": 0,
             "ticks": ""
            },
            "type": "choropleth"
           }
          ],
          "contour": [
           {
            "colorbar": {
             "outlinewidth": 0,
             "ticks": ""
            },
            "colorscale": [
             [
              0,
              "#0d0887"
             ],
             [
              0.1111111111111111,
              "#46039f"
             ],
             [
              0.2222222222222222,
              "#7201a8"
             ],
             [
              0.3333333333333333,
              "#9c179e"
             ],
             [
              0.4444444444444444,
              "#bd3786"
             ],
             [
              0.5555555555555556,
              "#d8576b"
             ],
             [
              0.6666666666666666,
              "#ed7953"
             ],
             [
              0.7777777777777778,
              "#fb9f3a"
             ],
             [
              0.8888888888888888,
              "#fdca26"
             ],
             [
              1,
              "#f0f921"
             ]
            ],
            "type": "contour"
           }
          ],
          "contourcarpet": [
           {
            "colorbar": {
             "outlinewidth": 0,
             "ticks": ""
            },
            "type": "contourcarpet"
           }
          ],
          "heatmap": [
           {
            "colorbar": {
             "outlinewidth": 0,
             "ticks": ""
            },
            "colorscale": [
             [
              0,
              "#0d0887"
             ],
             [
              0.1111111111111111,
              "#46039f"
             ],
             [
              0.2222222222222222,
              "#7201a8"
             ],
             [
              0.3333333333333333,
              "#9c179e"
             ],
             [
              0.4444444444444444,
              "#bd3786"
             ],
             [
              0.5555555555555556,
              "#d8576b"
             ],
             [
              0.6666666666666666,
              "#ed7953"
             ],
             [
              0.7777777777777778,
              "#fb9f3a"
             ],
             [
              0.8888888888888888,
              "#fdca26"
             ],
             [
              1,
              "#f0f921"
             ]
            ],
            "type": "heatmap"
           }
          ],
          "histogram": [
           {
            "marker": {
             "pattern": {
              "fillmode": "overlay",
              "size": 10,
              "solidity": 0.2
             }
            },
            "type": "histogram"
           }
          ],
          "histogram2d": [
           {
            "colorbar": {
             "outlinewidth": 0,
             "ticks": ""
            },
            "colorscale": [
             [
              0,
              "#0d0887"
             ],
             [
              0.1111111111111111,
              "#46039f"
             ],
             [
              0.2222222222222222,
              "#7201a8"
             ],
             [
              0.3333333333333333,
              "#9c179e"
             ],
             [
              0.4444444444444444,
              "#bd3786"
             ],
             [
              0.5555555555555556,
              "#d8576b"
             ],
             [
              0.6666666666666666,
              "#ed7953"
             ],
             [
              0.7777777777777778,
              "#fb9f3a"
             ],
             [
              0.8888888888888888,
              "#fdca26"
             ],
             [
              1,
              "#f0f921"
             ]
            ],
            "type": "histogram2d"
           }
          ],
          "histogram2dcontour": [
           {
            "colorbar": {
             "outlinewidth": 0,
             "ticks": ""
            },
            "colorscale": [
             [
              0,
              "#0d0887"
             ],
             [
              0.1111111111111111,
              "#46039f"
             ],
             [
              0.2222222222222222,
              "#7201a8"
             ],
             [
              0.3333333333333333,
              "#9c179e"
             ],
             [
              0.4444444444444444,
              "#bd3786"
             ],
             [
              0.5555555555555556,
              "#d8576b"
             ],
             [
              0.6666666666666666,
              "#ed7953"
             ],
             [
              0.7777777777777778,
              "#fb9f3a"
             ],
             [
              0.8888888888888888,
              "#fdca26"
             ],
             [
              1,
              "#f0f921"
             ]
            ],
            "type": "histogram2dcontour"
           }
          ],
          "mesh3d": [
           {
            "colorbar": {
             "outlinewidth": 0,
             "ticks": ""
            },
            "type": "mesh3d"
           }
          ],
          "parcoords": [
           {
            "line": {
             "colorbar": {
              "outlinewidth": 0,
              "ticks": ""
             }
            },
            "type": "parcoords"
           }
          ],
          "pie": [
           {
            "automargin": true,
            "type": "pie"
           }
          ],
          "scatter": [
           {
            "fillpattern": {
             "fillmode": "overlay",
             "size": 10,
             "solidity": 0.2
            },
            "type": "scatter"
           }
          ],
          "scatter3d": [
           {
            "line": {
             "colorbar": {
              "outlinewidth": 0,
              "ticks": ""
             }
            },
            "marker": {
             "colorbar": {
              "outlinewidth": 0,
              "ticks": ""
             }
            },
            "type": "scatter3d"
           }
          ],
          "scattercarpet": [
           {
            "marker": {
             "colorbar": {
              "outlinewidth": 0,
              "ticks": ""
             }
            },
            "type": "scattercarpet"
           }
          ],
          "scattergeo": [
           {
            "marker": {
             "colorbar": {
              "outlinewidth": 0,
              "ticks": ""
             }
            },
            "type": "scattergeo"
           }
          ],
          "scattergl": [
           {
            "marker": {
             "colorbar": {
              "outlinewidth": 0,
              "ticks": ""
             }
            },
            "type": "scattergl"
           }
          ],
          "scattermap": [
           {
            "marker": {
             "colorbar": {
              "outlinewidth": 0,
              "ticks": ""
             }
            },
            "type": "scattermap"
           }
          ],
          "scattermapbox": [
           {
            "marker": {
             "colorbar": {
              "outlinewidth": 0,
              "ticks": ""
             }
            },
            "type": "scattermapbox"
           }
          ],
          "scatterpolar": [
           {
            "marker": {
             "colorbar": {
              "outlinewidth": 0,
              "ticks": ""
             }
            },
            "type": "scatterpolar"
           }
          ],
          "scatterpolargl": [
           {
            "marker": {
             "colorbar": {
              "outlinewidth": 0,
              "ticks": ""
             }
            },
            "type": "scatterpolargl"
           }
          ],
          "scatterternary": [
           {
            "marker": {
             "colorbar": {
              "outlinewidth": 0,
              "ticks": ""
             }
            },
            "type": "scatterternary"
           }
          ],
          "surface": [
           {
            "colorbar": {
             "outlinewidth": 0,
             "ticks": ""
            },
            "colorscale": [
             [
              0,
              "#0d0887"
             ],
             [
              0.1111111111111111,
              "#46039f"
             ],
             [
              0.2222222222222222,
              "#7201a8"
             ],
             [
              0.3333333333333333,
              "#9c179e"
             ],
             [
              0.4444444444444444,
              "#bd3786"
             ],
             [
              0.5555555555555556,
              "#d8576b"
             ],
             [
              0.6666666666666666,
              "#ed7953"
             ],
             [
              0.7777777777777778,
              "#fb9f3a"
             ],
             [
              0.8888888888888888,
              "#fdca26"
             ],
             [
              1,
              "#f0f921"
             ]
            ],
            "type": "surface"
           }
          ],
          "table": [
           {
            "cells": {
             "fill": {
              "color": "#EBF0F8"
             },
             "line": {
              "color": "white"
             }
            },
            "header": {
             "fill": {
              "color": "#C8D4E3"
             },
             "line": {
              "color": "white"
             }
            },
            "type": "table"
           }
          ]
         },
         "layout": {
          "annotationdefaults": {
           "arrowcolor": "#2a3f5f",
           "arrowhead": 0,
           "arrowwidth": 1
          },
          "autotypenumbers": "strict",
          "coloraxis": {
           "colorbar": {
            "outlinewidth": 0,
            "ticks": ""
           }
          },
          "colorscale": {
           "diverging": [
            [
             0,
             "#8e0152"
            ],
            [
             0.1,
             "#c51b7d"
            ],
            [
             0.2,
             "#de77ae"
            ],
            [
             0.3,
             "#f1b6da"
            ],
            [
             0.4,
             "#fde0ef"
            ],
            [
             0.5,
             "#f7f7f7"
            ],
            [
             0.6,
             "#e6f5d0"
            ],
            [
             0.7,
             "#b8e186"
            ],
            [
             0.8,
             "#7fbc41"
            ],
            [
             0.9,
             "#4d9221"
            ],
            [
             1,
             "#276419"
            ]
           ],
           "sequential": [
            [
             0,
             "#0d0887"
            ],
            [
             0.1111111111111111,
             "#46039f"
            ],
            [
             0.2222222222222222,
             "#7201a8"
            ],
            [
             0.3333333333333333,
             "#9c179e"
            ],
            [
             0.4444444444444444,
             "#bd3786"
            ],
            [
             0.5555555555555556,
             "#d8576b"
            ],
            [
             0.6666666666666666,
             "#ed7953"
            ],
            [
             0.7777777777777778,
             "#fb9f3a"
            ],
            [
             0.8888888888888888,
             "#fdca26"
            ],
            [
             1,
             "#f0f921"
            ]
           ],
           "sequentialminus": [
            [
             0,
             "#0d0887"
            ],
            [
             0.1111111111111111,
             "#46039f"
            ],
            [
             0.2222222222222222,
             "#7201a8"
            ],
            [
             0.3333333333333333,
             "#9c179e"
            ],
            [
             0.4444444444444444,
             "#bd3786"
            ],
            [
             0.5555555555555556,
             "#d8576b"
            ],
            [
             0.6666666666666666,
             "#ed7953"
            ],
            [
             0.7777777777777778,
             "#fb9f3a"
            ],
            [
             0.8888888888888888,
             "#fdca26"
            ],
            [
             1,
             "#f0f921"
            ]
           ]
          },
          "colorway": [
           "#636efa",
           "#EF553B",
           "#00cc96",
           "#ab63fa",
           "#FFA15A",
           "#19d3f3",
           "#FF6692",
           "#B6E880",
           "#FF97FF",
           "#FECB52"
          ],
          "font": {
           "color": "#2a3f5f"
          },
          "geo": {
           "bgcolor": "white",
           "lakecolor": "white",
           "landcolor": "#E5ECF6",
           "showlakes": true,
           "showland": true,
           "subunitcolor": "white"
          },
          "hoverlabel": {
           "align": "left"
          },
          "hovermode": "closest",
          "mapbox": {
           "style": "light"
          },
          "paper_bgcolor": "white",
          "plot_bgcolor": "#E5ECF6",
          "polar": {
           "angularaxis": {
            "gridcolor": "white",
            "linecolor": "white",
            "ticks": ""
           },
           "bgcolor": "#E5ECF6",
           "radialaxis": {
            "gridcolor": "white",
            "linecolor": "white",
            "ticks": ""
           }
          },
          "scene": {
           "xaxis": {
            "backgroundcolor": "#E5ECF6",
            "gridcolor": "white",
            "gridwidth": 2,
            "linecolor": "white",
            "showbackground": true,
            "ticks": "",
            "zerolinecolor": "white"
           },
           "yaxis": {
            "backgroundcolor": "#E5ECF6",
            "gridcolor": "white",
            "gridwidth": 2,
            "linecolor": "white",
            "showbackground": true,
            "ticks": "",
            "zerolinecolor": "white"
           },
           "zaxis": {
            "backgroundcolor": "#E5ECF6",
            "gridcolor": "white",
            "gridwidth": 2,
            "linecolor": "white",
            "showbackground": true,
            "ticks": "",
            "zerolinecolor": "white"
           }
          },
          "shapedefaults": {
           "line": {
            "color": "#2a3f5f"
           }
          },
          "ternary": {
           "aaxis": {
            "gridcolor": "white",
            "linecolor": "white",
            "ticks": ""
           },
           "baxis": {
            "gridcolor": "white",
            "linecolor": "white",
            "ticks": ""
           },
           "bgcolor": "#E5ECF6",
           "caxis": {
            "gridcolor": "white",
            "linecolor": "white",
            "ticks": ""
           }
          },
          "title": {
           "x": 0.05
          },
          "xaxis": {
           "automargin": true,
           "gridcolor": "white",
           "linecolor": "white",
           "ticks": "",
           "title": {
            "standoff": 15
           },
           "zerolinecolor": "white",
           "zerolinewidth": 2
          },
          "yaxis": {
           "automargin": true,
           "gridcolor": "white",
           "linecolor": "white",
           "ticks": "",
           "title": {
            "standoff": 15
           },
           "zerolinecolor": "white",
           "zerolinewidth": 2
          }
         }
        },
        "title": {
         "text": "Expected Ride Duration vs. Cost of Ride"
        },
        "xaxis": {
         "anchor": "y",
         "domain": [
          0,
          1
         ],
         "title": {
          "text": "Expected_Ride_Duration"
         }
        },
        "yaxis": {
         "anchor": "x",
         "domain": [
          0,
          1
         ],
         "title": {
          "text": "adjusted_ride_cost"
         }
        }
       }
      }
     },
     "metadata": {},
     "output_type": "display_data"
    }
   ],
   "source": [
    "fig = px.scatter(data,\n",
    "                 x='Expected_Ride_Duration',\n",
    "                 y='adjusted_ride_cost',\n",
    "                 title='Expected Ride Duration vs. Cost of Ride',\n",
    "                 trendline='ols')\n",
    "fig.show()"
   ]
  },
  {
   "cell_type": "code",
   "execution_count": 15,
   "metadata": {},
   "outputs": [],
   "source": [
    "import pandas as pd\n",
    "import numpy as np\n",
    "from sklearn.preprocessing import StandardScaler\n",
    "\n",
    "def data_preprocessing_pipeline(data):\n",
    "    #Identify numeric and categorical features\n",
    "    numeric_features = data.select_dtypes(include=['float', 'int']).columns\n",
    "    categorical_features = data.select_dtypes(include=['object']).columns\n",
    "\n",
    "    #Handle missing values in numeric features\n",
    "    data[numeric_features] = data[numeric_features].fillna(data[numeric_features].mean())\n",
    "\n",
    "    #Detect and handle outliers in numeric features using IQR\n",
    "    for feature in numeric_features:\n",
    "        Q1 = data[feature].quantile(0.25)\n",
    "        Q3 = data[feature].quantile(0.75)\n",
    "        IQR = Q3 - Q1\n",
    "        lower_bound = Q1 - (1.5 * IQR)\n",
    "        upper_bound = Q3 + (1.5 * IQR)\n",
    "        data[feature] = np.where((data[feature] < lower_bound) | (data[feature] > upper_bound),\n",
    "                                 data[feature].mean(), data[feature])\n",
    "\n",
    "    #Handle missing values in categorical features\n",
    "    data[categorical_features] = data[categorical_features].fillna(data[categorical_features].mode().iloc[0])\n",
    "\n",
    "    return data"
   ]
  },
  {
   "cell_type": "code",
   "execution_count": 16,
   "metadata": {},
   "outputs": [],
   "source": [
    "\n",
    "data[\"Vehicle_Type\"] = data[\"Vehicle_Type\"].map({\"Premium\": 1,\n",
    "                                           \"Economy\": 0})\n",
    "     "
   ]
  },
  {
   "cell_type": "code",
   "execution_count": 17,
   "metadata": {},
   "outputs": [
    {
     "data": {
      "text/html": [
       "<style>#sk-container-id-1 {\n",
       "  /* Definition of color scheme common for light and dark mode */\n",
       "  --sklearn-color-text: #000;\n",
       "  --sklearn-color-text-muted: #666;\n",
       "  --sklearn-color-line: gray;\n",
       "  /* Definition of color scheme for unfitted estimators */\n",
       "  --sklearn-color-unfitted-level-0: #fff5e6;\n",
       "  --sklearn-color-unfitted-level-1: #f6e4d2;\n",
       "  --sklearn-color-unfitted-level-2: #ffe0b3;\n",
       "  --sklearn-color-unfitted-level-3: chocolate;\n",
       "  /* Definition of color scheme for fitted estimators */\n",
       "  --sklearn-color-fitted-level-0: #f0f8ff;\n",
       "  --sklearn-color-fitted-level-1: #d4ebff;\n",
       "  --sklearn-color-fitted-level-2: #b3dbfd;\n",
       "  --sklearn-color-fitted-level-3: cornflowerblue;\n",
       "\n",
       "  /* Specific color for light theme */\n",
       "  --sklearn-color-text-on-default-background: var(--sg-text-color, var(--theme-code-foreground, var(--jp-content-font-color1, black)));\n",
       "  --sklearn-color-background: var(--sg-background-color, var(--theme-background, var(--jp-layout-color0, white)));\n",
       "  --sklearn-color-border-box: var(--sg-text-color, var(--theme-code-foreground, var(--jp-content-font-color1, black)));\n",
       "  --sklearn-color-icon: #696969;\n",
       "\n",
       "  @media (prefers-color-scheme: dark) {\n",
       "    /* Redefinition of color scheme for dark theme */\n",
       "    --sklearn-color-text-on-default-background: var(--sg-text-color, var(--theme-code-foreground, var(--jp-content-font-color1, white)));\n",
       "    --sklearn-color-background: var(--sg-background-color, var(--theme-background, var(--jp-layout-color0, #111)));\n",
       "    --sklearn-color-border-box: var(--sg-text-color, var(--theme-code-foreground, var(--jp-content-font-color1, white)));\n",
       "    --sklearn-color-icon: #878787;\n",
       "  }\n",
       "}\n",
       "\n",
       "#sk-container-id-1 {\n",
       "  color: var(--sklearn-color-text);\n",
       "}\n",
       "\n",
       "#sk-container-id-1 pre {\n",
       "  padding: 0;\n",
       "}\n",
       "\n",
       "#sk-container-id-1 input.sk-hidden--visually {\n",
       "  border: 0;\n",
       "  clip: rect(1px 1px 1px 1px);\n",
       "  clip: rect(1px, 1px, 1px, 1px);\n",
       "  height: 1px;\n",
       "  margin: -1px;\n",
       "  overflow: hidden;\n",
       "  padding: 0;\n",
       "  position: absolute;\n",
       "  width: 1px;\n",
       "}\n",
       "\n",
       "#sk-container-id-1 div.sk-dashed-wrapped {\n",
       "  border: 1px dashed var(--sklearn-color-line);\n",
       "  margin: 0 0.4em 0.5em 0.4em;\n",
       "  box-sizing: border-box;\n",
       "  padding-bottom: 0.4em;\n",
       "  background-color: var(--sklearn-color-background);\n",
       "}\n",
       "\n",
       "#sk-container-id-1 div.sk-container {\n",
       "  /* jupyter's `normalize.less` sets `[hidden] { display: none; }`\n",
       "     but bootstrap.min.css set `[hidden] { display: none !important; }`\n",
       "     so we also need the `!important` here to be able to override the\n",
       "     default hidden behavior on the sphinx rendered scikit-learn.org.\n",
       "     See: https://github.com/scikit-learn/scikit-learn/issues/21755 */\n",
       "  display: inline-block !important;\n",
       "  position: relative;\n",
       "}\n",
       "\n",
       "#sk-container-id-1 div.sk-text-repr-fallback {\n",
       "  display: none;\n",
       "}\n",
       "\n",
       "div.sk-parallel-item,\n",
       "div.sk-serial,\n",
       "div.sk-item {\n",
       "  /* draw centered vertical line to link estimators */\n",
       "  background-image: linear-gradient(var(--sklearn-color-text-on-default-background), var(--sklearn-color-text-on-default-background));\n",
       "  background-size: 2px 100%;\n",
       "  background-repeat: no-repeat;\n",
       "  background-position: center center;\n",
       "}\n",
       "\n",
       "/* Parallel-specific style estimator block */\n",
       "\n",
       "#sk-container-id-1 div.sk-parallel-item::after {\n",
       "  content: \"\";\n",
       "  width: 100%;\n",
       "  border-bottom: 2px solid var(--sklearn-color-text-on-default-background);\n",
       "  flex-grow: 1;\n",
       "}\n",
       "\n",
       "#sk-container-id-1 div.sk-parallel {\n",
       "  display: flex;\n",
       "  align-items: stretch;\n",
       "  justify-content: center;\n",
       "  background-color: var(--sklearn-color-background);\n",
       "  position: relative;\n",
       "}\n",
       "\n",
       "#sk-container-id-1 div.sk-parallel-item {\n",
       "  display: flex;\n",
       "  flex-direction: column;\n",
       "}\n",
       "\n",
       "#sk-container-id-1 div.sk-parallel-item:first-child::after {\n",
       "  align-self: flex-end;\n",
       "  width: 50%;\n",
       "}\n",
       "\n",
       "#sk-container-id-1 div.sk-parallel-item:last-child::after {\n",
       "  align-self: flex-start;\n",
       "  width: 50%;\n",
       "}\n",
       "\n",
       "#sk-container-id-1 div.sk-parallel-item:only-child::after {\n",
       "  width: 0;\n",
       "}\n",
       "\n",
       "/* Serial-specific style estimator block */\n",
       "\n",
       "#sk-container-id-1 div.sk-serial {\n",
       "  display: flex;\n",
       "  flex-direction: column;\n",
       "  align-items: center;\n",
       "  background-color: var(--sklearn-color-background);\n",
       "  padding-right: 1em;\n",
       "  padding-left: 1em;\n",
       "}\n",
       "\n",
       "\n",
       "/* Toggleable style: style used for estimator/Pipeline/ColumnTransformer box that is\n",
       "clickable and can be expanded/collapsed.\n",
       "- Pipeline and ColumnTransformer use this feature and define the default style\n",
       "- Estimators will overwrite some part of the style using the `sk-estimator` class\n",
       "*/\n",
       "\n",
       "/* Pipeline and ColumnTransformer style (default) */\n",
       "\n",
       "#sk-container-id-1 div.sk-toggleable {\n",
       "  /* Default theme specific background. It is overwritten whether we have a\n",
       "  specific estimator or a Pipeline/ColumnTransformer */\n",
       "  background-color: var(--sklearn-color-background);\n",
       "}\n",
       "\n",
       "/* Toggleable label */\n",
       "#sk-container-id-1 label.sk-toggleable__label {\n",
       "  cursor: pointer;\n",
       "  display: flex;\n",
       "  width: 100%;\n",
       "  margin-bottom: 0;\n",
       "  padding: 0.5em;\n",
       "  box-sizing: border-box;\n",
       "  text-align: center;\n",
       "  align-items: start;\n",
       "  justify-content: space-between;\n",
       "  gap: 0.5em;\n",
       "}\n",
       "\n",
       "#sk-container-id-1 label.sk-toggleable__label .caption {\n",
       "  font-size: 0.6rem;\n",
       "  font-weight: lighter;\n",
       "  color: var(--sklearn-color-text-muted);\n",
       "}\n",
       "\n",
       "#sk-container-id-1 label.sk-toggleable__label-arrow:before {\n",
       "  /* Arrow on the left of the label */\n",
       "  content: \"▸\";\n",
       "  float: left;\n",
       "  margin-right: 0.25em;\n",
       "  color: var(--sklearn-color-icon);\n",
       "}\n",
       "\n",
       "#sk-container-id-1 label.sk-toggleable__label-arrow:hover:before {\n",
       "  color: var(--sklearn-color-text);\n",
       "}\n",
       "\n",
       "/* Toggleable content - dropdown */\n",
       "\n",
       "#sk-container-id-1 div.sk-toggleable__content {\n",
       "  max-height: 0;\n",
       "  max-width: 0;\n",
       "  overflow: hidden;\n",
       "  text-align: left;\n",
       "  /* unfitted */\n",
       "  background-color: var(--sklearn-color-unfitted-level-0);\n",
       "}\n",
       "\n",
       "#sk-container-id-1 div.sk-toggleable__content.fitted {\n",
       "  /* fitted */\n",
       "  background-color: var(--sklearn-color-fitted-level-0);\n",
       "}\n",
       "\n",
       "#sk-container-id-1 div.sk-toggleable__content pre {\n",
       "  margin: 0.2em;\n",
       "  border-radius: 0.25em;\n",
       "  color: var(--sklearn-color-text);\n",
       "  /* unfitted */\n",
       "  background-color: var(--sklearn-color-unfitted-level-0);\n",
       "}\n",
       "\n",
       "#sk-container-id-1 div.sk-toggleable__content.fitted pre {\n",
       "  /* unfitted */\n",
       "  background-color: var(--sklearn-color-fitted-level-0);\n",
       "}\n",
       "\n",
       "#sk-container-id-1 input.sk-toggleable__control:checked~div.sk-toggleable__content {\n",
       "  /* Expand drop-down */\n",
       "  max-height: 200px;\n",
       "  max-width: 100%;\n",
       "  overflow: auto;\n",
       "}\n",
       "\n",
       "#sk-container-id-1 input.sk-toggleable__control:checked~label.sk-toggleable__label-arrow:before {\n",
       "  content: \"▾\";\n",
       "}\n",
       "\n",
       "/* Pipeline/ColumnTransformer-specific style */\n",
       "\n",
       "#sk-container-id-1 div.sk-label input.sk-toggleable__control:checked~label.sk-toggleable__label {\n",
       "  color: var(--sklearn-color-text);\n",
       "  background-color: var(--sklearn-color-unfitted-level-2);\n",
       "}\n",
       "\n",
       "#sk-container-id-1 div.sk-label.fitted input.sk-toggleable__control:checked~label.sk-toggleable__label {\n",
       "  background-color: var(--sklearn-color-fitted-level-2);\n",
       "}\n",
       "\n",
       "/* Estimator-specific style */\n",
       "\n",
       "/* Colorize estimator box */\n",
       "#sk-container-id-1 div.sk-estimator input.sk-toggleable__control:checked~label.sk-toggleable__label {\n",
       "  /* unfitted */\n",
       "  background-color: var(--sklearn-color-unfitted-level-2);\n",
       "}\n",
       "\n",
       "#sk-container-id-1 div.sk-estimator.fitted input.sk-toggleable__control:checked~label.sk-toggleable__label {\n",
       "  /* fitted */\n",
       "  background-color: var(--sklearn-color-fitted-level-2);\n",
       "}\n",
       "\n",
       "#sk-container-id-1 div.sk-label label.sk-toggleable__label,\n",
       "#sk-container-id-1 div.sk-label label {\n",
       "  /* The background is the default theme color */\n",
       "  color: var(--sklearn-color-text-on-default-background);\n",
       "}\n",
       "\n",
       "/* On hover, darken the color of the background */\n",
       "#sk-container-id-1 div.sk-label:hover label.sk-toggleable__label {\n",
       "  color: var(--sklearn-color-text);\n",
       "  background-color: var(--sklearn-color-unfitted-level-2);\n",
       "}\n",
       "\n",
       "/* Label box, darken color on hover, fitted */\n",
       "#sk-container-id-1 div.sk-label.fitted:hover label.sk-toggleable__label.fitted {\n",
       "  color: var(--sklearn-color-text);\n",
       "  background-color: var(--sklearn-color-fitted-level-2);\n",
       "}\n",
       "\n",
       "/* Estimator label */\n",
       "\n",
       "#sk-container-id-1 div.sk-label label {\n",
       "  font-family: monospace;\n",
       "  font-weight: bold;\n",
       "  display: inline-block;\n",
       "  line-height: 1.2em;\n",
       "}\n",
       "\n",
       "#sk-container-id-1 div.sk-label-container {\n",
       "  text-align: center;\n",
       "}\n",
       "\n",
       "/* Estimator-specific */\n",
       "#sk-container-id-1 div.sk-estimator {\n",
       "  font-family: monospace;\n",
       "  border: 1px dotted var(--sklearn-color-border-box);\n",
       "  border-radius: 0.25em;\n",
       "  box-sizing: border-box;\n",
       "  margin-bottom: 0.5em;\n",
       "  /* unfitted */\n",
       "  background-color: var(--sklearn-color-unfitted-level-0);\n",
       "}\n",
       "\n",
       "#sk-container-id-1 div.sk-estimator.fitted {\n",
       "  /* fitted */\n",
       "  background-color: var(--sklearn-color-fitted-level-0);\n",
       "}\n",
       "\n",
       "/* on hover */\n",
       "#sk-container-id-1 div.sk-estimator:hover {\n",
       "  /* unfitted */\n",
       "  background-color: var(--sklearn-color-unfitted-level-2);\n",
       "}\n",
       "\n",
       "#sk-container-id-1 div.sk-estimator.fitted:hover {\n",
       "  /* fitted */\n",
       "  background-color: var(--sklearn-color-fitted-level-2);\n",
       "}\n",
       "\n",
       "/* Specification for estimator info (e.g. \"i\" and \"?\") */\n",
       "\n",
       "/* Common style for \"i\" and \"?\" */\n",
       "\n",
       ".sk-estimator-doc-link,\n",
       "a:link.sk-estimator-doc-link,\n",
       "a:visited.sk-estimator-doc-link {\n",
       "  float: right;\n",
       "  font-size: smaller;\n",
       "  line-height: 1em;\n",
       "  font-family: monospace;\n",
       "  background-color: var(--sklearn-color-background);\n",
       "  border-radius: 1em;\n",
       "  height: 1em;\n",
       "  width: 1em;\n",
       "  text-decoration: none !important;\n",
       "  margin-left: 0.5em;\n",
       "  text-align: center;\n",
       "  /* unfitted */\n",
       "  border: var(--sklearn-color-unfitted-level-1) 1pt solid;\n",
       "  color: var(--sklearn-color-unfitted-level-1);\n",
       "}\n",
       "\n",
       ".sk-estimator-doc-link.fitted,\n",
       "a:link.sk-estimator-doc-link.fitted,\n",
       "a:visited.sk-estimator-doc-link.fitted {\n",
       "  /* fitted */\n",
       "  border: var(--sklearn-color-fitted-level-1) 1pt solid;\n",
       "  color: var(--sklearn-color-fitted-level-1);\n",
       "}\n",
       "\n",
       "/* On hover */\n",
       "div.sk-estimator:hover .sk-estimator-doc-link:hover,\n",
       ".sk-estimator-doc-link:hover,\n",
       "div.sk-label-container:hover .sk-estimator-doc-link:hover,\n",
       ".sk-estimator-doc-link:hover {\n",
       "  /* unfitted */\n",
       "  background-color: var(--sklearn-color-unfitted-level-3);\n",
       "  color: var(--sklearn-color-background);\n",
       "  text-decoration: none;\n",
       "}\n",
       "\n",
       "div.sk-estimator.fitted:hover .sk-estimator-doc-link.fitted:hover,\n",
       ".sk-estimator-doc-link.fitted:hover,\n",
       "div.sk-label-container:hover .sk-estimator-doc-link.fitted:hover,\n",
       ".sk-estimator-doc-link.fitted:hover {\n",
       "  /* fitted */\n",
       "  background-color: var(--sklearn-color-fitted-level-3);\n",
       "  color: var(--sklearn-color-background);\n",
       "  text-decoration: none;\n",
       "}\n",
       "\n",
       "/* Span, style for the box shown on hovering the info icon */\n",
       ".sk-estimator-doc-link span {\n",
       "  display: none;\n",
       "  z-index: 9999;\n",
       "  position: relative;\n",
       "  font-weight: normal;\n",
       "  right: .2ex;\n",
       "  padding: .5ex;\n",
       "  margin: .5ex;\n",
       "  width: min-content;\n",
       "  min-width: 20ex;\n",
       "  max-width: 50ex;\n",
       "  color: var(--sklearn-color-text);\n",
       "  box-shadow: 2pt 2pt 4pt #999;\n",
       "  /* unfitted */\n",
       "  background: var(--sklearn-color-unfitted-level-0);\n",
       "  border: .5pt solid var(--sklearn-color-unfitted-level-3);\n",
       "}\n",
       "\n",
       ".sk-estimator-doc-link.fitted span {\n",
       "  /* fitted */\n",
       "  background: var(--sklearn-color-fitted-level-0);\n",
       "  border: var(--sklearn-color-fitted-level-3);\n",
       "}\n",
       "\n",
       ".sk-estimator-doc-link:hover span {\n",
       "  display: block;\n",
       "}\n",
       "\n",
       "/* \"?\"-specific style due to the `<a>` HTML tag */\n",
       "\n",
       "#sk-container-id-1 a.estimator_doc_link {\n",
       "  float: right;\n",
       "  font-size: 1rem;\n",
       "  line-height: 1em;\n",
       "  font-family: monospace;\n",
       "  background-color: var(--sklearn-color-background);\n",
       "  border-radius: 1rem;\n",
       "  height: 1rem;\n",
       "  width: 1rem;\n",
       "  text-decoration: none;\n",
       "  /* unfitted */\n",
       "  color: var(--sklearn-color-unfitted-level-1);\n",
       "  border: var(--sklearn-color-unfitted-level-1) 1pt solid;\n",
       "}\n",
       "\n",
       "#sk-container-id-1 a.estimator_doc_link.fitted {\n",
       "  /* fitted */\n",
       "  border: var(--sklearn-color-fitted-level-1) 1pt solid;\n",
       "  color: var(--sklearn-color-fitted-level-1);\n",
       "}\n",
       "\n",
       "/* On hover */\n",
       "#sk-container-id-1 a.estimator_doc_link:hover {\n",
       "  /* unfitted */\n",
       "  background-color: var(--sklearn-color-unfitted-level-3);\n",
       "  color: var(--sklearn-color-background);\n",
       "  text-decoration: none;\n",
       "}\n",
       "\n",
       "#sk-container-id-1 a.estimator_doc_link.fitted:hover {\n",
       "  /* fitted */\n",
       "  background-color: var(--sklearn-color-fitted-level-3);\n",
       "}\n",
       "</style><div id=\"sk-container-id-1\" class=\"sk-top-container\"><div class=\"sk-text-repr-fallback\"><pre>RandomForestRegressor()</pre><b>In a Jupyter environment, please rerun this cell to show the HTML representation or trust the notebook. <br />On GitHub, the HTML representation is unable to render, please try loading this page with nbviewer.org.</b></div><div class=\"sk-container\" hidden><div class=\"sk-item\"><div class=\"sk-estimator fitted sk-toggleable\"><input class=\"sk-toggleable__control sk-hidden--visually\" id=\"sk-estimator-id-1\" type=\"checkbox\" checked><label for=\"sk-estimator-id-1\" class=\"sk-toggleable__label fitted sk-toggleable__label-arrow\"><div><div>RandomForestRegressor</div></div><div><a class=\"sk-estimator-doc-link fitted\" rel=\"noreferrer\" target=\"_blank\" href=\"https://scikit-learn.org/1.6/modules/generated/sklearn.ensemble.RandomForestRegressor.html\">?<span>Documentation for RandomForestRegressor</span></a><span class=\"sk-estimator-doc-link fitted\">i<span>Fitted</span></span></div></label><div class=\"sk-toggleable__content fitted\"><pre>RandomForestRegressor()</pre></div> </div></div></div></div>"
      ],
      "text/plain": [
       "RandomForestRegressor()"
      ]
     },
     "execution_count": 17,
     "metadata": {},
     "output_type": "execute_result"
    }
   ],
   "source": [
    "#splitting data\n",
    "from sklearn.model_selection import train_test_split\n",
    "x = np.array(data[[\"Number_of_Riders\", \"Number_of_Drivers\", \"Vehicle_Type\", \"Expected_Ride_Duration\"]])\n",
    "y = np.array(data[[\"adjusted_ride_cost\"]])\n",
    "\n",
    "x_train, x_test, y_train, y_test = train_test_split(x,\n",
    "                                                    y,\n",
    "                                                    test_size=0.2,\n",
    "                                                    random_state=42)\n",
    "\n",
    "# Reshape y to 1D array\n",
    "y_train = y_train.ravel()\n",
    "y_test = y_test.ravel()\n",
    "\n",
    "# Training a random forest regression model\n",
    "from sklearn.ensemble import RandomForestRegressor\n",
    "model = RandomForestRegressor()\n",
    "model.fit(x_train, y_train)"
   ]
  },
  {
   "cell_type": "code",
   "execution_count": 23,
   "metadata": {},
   "outputs": [
    {
     "name": "stdout",
     "output_type": "stream",
     "text": [
      "Predicted price: [348.57311163]\n"
     ]
    }
   ],
   "source": [
    "def get_vehicle_type_numeric(vehicle_type):\n",
    "    vehicle_type_mapping = {\n",
    "        \"Premium\": 1,\n",
    "        \"Economy\": 0\n",
    "    }\n",
    "    vehicle_type_numeric = vehicle_type_mapping.get(vehicle_type)\n",
    "    return vehicle_type_numeric\n",
    "\n",
    "# Predicting using user input values\n",
    "def predict_price(number_of_riders, number_of_drivers, vehicle_type, Expected_Ride_Duration):\n",
    "    vehicle_type_numeric = get_vehicle_type_numeric(vehicle_type)\n",
    "    if vehicle_type_numeric is None:\n",
    "        raise ValueError(\"Invalid vehicle type\")\n",
    "\n",
    "    input_data = np.array([[number_of_riders, number_of_drivers, vehicle_type_numeric, Expected_Ride_Duration]])\n",
    "    predicted_price = model.predict(input_data)\n",
    "    return predicted_price\n",
    "\n",
    "# Example prediction using user input values\n",
    "user_number_of_riders = 50\n",
    "user_number_of_drivers = 25\n",
    "user_vehicle_type = \"Premium\"\n",
    "Expected_Ride_Duration = 30\n",
    "predicted_price = predict_price(user_number_of_riders, user_number_of_drivers, user_vehicle_type, Expected_Ride_Duration)\n",
    "print(\"Predicted price:\", predicted_price)\n",
    "     "
   ]
  },
  {
   "cell_type": "code",
   "execution_count": 24,
   "metadata": {},
   "outputs": [
    {
     "data": {
      "application/vnd.plotly.v1+json": {
       "config": {
        "plotlyServerURL": "https://plot.ly"
       },
       "data": [
        {
         "mode": "markers",
         "name": "Actual vs Predicted",
         "type": "scatter",
         "x": {
          "bdata": "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",
          "dtype": "f8"
         },
         "y": {
          "bdata": "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",
          "dtype": "f8"
         }
        },
        {
         "line": {
          "color": "red",
          "dash": "dash"
         },
         "mode": "lines",
         "name": "Ideal",
         "type": "scatter",
         "x": [
          32.35431252,
          2783.681137418333
         ],
         "y": [
          32.35431252,
          2783.681137418333
         ]
        }
       ],
       "layout": {
        "showlegend": true,
        "template": {
         "data": {
          "bar": [
           {
            "error_x": {
             "color": "#2a3f5f"
            },
            "error_y": {
             "color": "#2a3f5f"
            },
            "marker": {
             "line": {
              "color": "#E5ECF6",
              "width": 0.5
             },
             "pattern": {
              "fillmode": "overlay",
              "size": 10,
              "solidity": 0.2
             }
            },
            "type": "bar"
           }
          ],
          "barpolar": [
           {
            "marker": {
             "line": {
              "color": "#E5ECF6",
              "width": 0.5
             },
             "pattern": {
              "fillmode": "overlay",
              "size": 10,
              "solidity": 0.2
             }
            },
            "type": "barpolar"
           }
          ],
          "carpet": [
           {
            "aaxis": {
             "endlinecolor": "#2a3f5f",
             "gridcolor": "white",
             "linecolor": "white",
             "minorgridcolor": "white",
             "startlinecolor": "#2a3f5f"
            },
            "baxis": {
             "endlinecolor": "#2a3f5f",
             "gridcolor": "white",
             "linecolor": "white",
             "minorgridcolor": "white",
             "startlinecolor": "#2a3f5f"
            },
            "type": "carpet"
           }
          ],
          "choropleth": [
           {
            "colorbar": {
             "outlinewidth": 0,
             "ticks": ""
            },
            "type": "choropleth"
           }
          ],
          "contour": [
           {
            "colorbar": {
             "outlinewidth": 0,
             "ticks": ""
            },
            "colorscale": [
             [
              0,
              "#0d0887"
             ],
             [
              0.1111111111111111,
              "#46039f"
             ],
             [
              0.2222222222222222,
              "#7201a8"
             ],
             [
              0.3333333333333333,
              "#9c179e"
             ],
             [
              0.4444444444444444,
              "#bd3786"
             ],
             [
              0.5555555555555556,
              "#d8576b"
             ],
             [
              0.6666666666666666,
              "#ed7953"
             ],
             [
              0.7777777777777778,
              "#fb9f3a"
             ],
             [
              0.8888888888888888,
              "#fdca26"
             ],
             [
              1,
              "#f0f921"
             ]
            ],
            "type": "contour"
           }
          ],
          "contourcarpet": [
           {
            "colorbar": {
             "outlinewidth": 0,
             "ticks": ""
            },
            "type": "contourcarpet"
           }
          ],
          "heatmap": [
           {
            "colorbar": {
             "outlinewidth": 0,
             "ticks": ""
            },
            "colorscale": [
             [
              0,
              "#0d0887"
             ],
             [
              0.1111111111111111,
              "#46039f"
             ],
             [
              0.2222222222222222,
              "#7201a8"
             ],
             [
              0.3333333333333333,
              "#9c179e"
             ],
             [
              0.4444444444444444,
              "#bd3786"
             ],
             [
              0.5555555555555556,
              "#d8576b"
             ],
             [
              0.6666666666666666,
              "#ed7953"
             ],
             [
              0.7777777777777778,
              "#fb9f3a"
             ],
             [
              0.8888888888888888,
              "#fdca26"
             ],
             [
              1,
              "#f0f921"
             ]
            ],
            "type": "heatmap"
           }
          ],
          "histogram": [
           {
            "marker": {
             "pattern": {
              "fillmode": "overlay",
              "size": 10,
              "solidity": 0.2
             }
            },
            "type": "histogram"
           }
          ],
          "histogram2d": [
           {
            "colorbar": {
             "outlinewidth": 0,
             "ticks": ""
            },
            "colorscale": [
             [
              0,
              "#0d0887"
             ],
             [
              0.1111111111111111,
              "#46039f"
             ],
             [
              0.2222222222222222,
              "#7201a8"
             ],
             [
              0.3333333333333333,
              "#9c179e"
             ],
             [
              0.4444444444444444,
              "#bd3786"
             ],
             [
              0.5555555555555556,
              "#d8576b"
             ],
             [
              0.6666666666666666,
              "#ed7953"
             ],
             [
              0.7777777777777778,
              "#fb9f3a"
             ],
             [
              0.8888888888888888,
              "#fdca26"
             ],
             [
              1,
              "#f0f921"
             ]
            ],
            "type": "histogram2d"
           }
          ],
          "histogram2dcontour": [
           {
            "colorbar": {
             "outlinewidth": 0,
             "ticks": ""
            },
            "colorscale": [
             [
              0,
              "#0d0887"
             ],
             [
              0.1111111111111111,
              "#46039f"
             ],
             [
              0.2222222222222222,
              "#7201a8"
             ],
             [
              0.3333333333333333,
              "#9c179e"
             ],
             [
              0.4444444444444444,
              "#bd3786"
             ],
             [
              0.5555555555555556,
              "#d8576b"
             ],
             [
              0.6666666666666666,
              "#ed7953"
             ],
             [
              0.7777777777777778,
              "#fb9f3a"
             ],
             [
              0.8888888888888888,
              "#fdca26"
             ],
             [
              1,
              "#f0f921"
             ]
            ],
            "type": "histogram2dcontour"
           }
          ],
          "mesh3d": [
           {
            "colorbar": {
             "outlinewidth": 0,
             "ticks": ""
            },
            "type": "mesh3d"
           }
          ],
          "parcoords": [
           {
            "line": {
             "colorbar": {
              "outlinewidth": 0,
              "ticks": ""
             }
            },
            "type": "parcoords"
           }
          ],
          "pie": [
           {
            "automargin": true,
            "type": "pie"
           }
          ],
          "scatter": [
           {
            "fillpattern": {
             "fillmode": "overlay",
             "size": 10,
             "solidity": 0.2
            },
            "type": "scatter"
           }
          ],
          "scatter3d": [
           {
            "line": {
             "colorbar": {
              "outlinewidth": 0,
              "ticks": ""
             }
            },
            "marker": {
             "colorbar": {
              "outlinewidth": 0,
              "ticks": ""
             }
            },
            "type": "scatter3d"
           }
          ],
          "scattercarpet": [
           {
            "marker": {
             "colorbar": {
              "outlinewidth": 0,
              "ticks": ""
             }
            },
            "type": "scattercarpet"
           }
          ],
          "scattergeo": [
           {
            "marker": {
             "colorbar": {
              "outlinewidth": 0,
              "ticks": ""
             }
            },
            "type": "scattergeo"
           }
          ],
          "scattergl": [
           {
            "marker": {
             "colorbar": {
              "outlinewidth": 0,
              "ticks": ""
             }
            },
            "type": "scattergl"
           }
          ],
          "scattermap": [
           {
            "marker": {
             "colorbar": {
              "outlinewidth": 0,
              "ticks": ""
             }
            },
            "type": "scattermap"
           }
          ],
          "scattermapbox": [
           {
            "marker": {
             "colorbar": {
              "outlinewidth": 0,
              "ticks": ""
             }
            },
            "type": "scattermapbox"
           }
          ],
          "scatterpolar": [
           {
            "marker": {
             "colorbar": {
              "outlinewidth": 0,
              "ticks": ""
             }
            },
            "type": "scatterpolar"
           }
          ],
          "scatterpolargl": [
           {
            "marker": {
             "colorbar": {
              "outlinewidth": 0,
              "ticks": ""
             }
            },
            "type": "scatterpolargl"
           }
          ],
          "scatterternary": [
           {
            "marker": {
             "colorbar": {
              "outlinewidth": 0,
              "ticks": ""
             }
            },
            "type": "scatterternary"
           }
          ],
          "surface": [
           {
            "colorbar": {
             "outlinewidth": 0,
             "ticks": ""
            },
            "colorscale": [
             [
              0,
              "#0d0887"
             ],
             [
              0.1111111111111111,
              "#46039f"
             ],
             [
              0.2222222222222222,
              "#7201a8"
             ],
             [
              0.3333333333333333,
              "#9c179e"
             ],
             [
              0.4444444444444444,
              "#bd3786"
             ],
             [
              0.5555555555555556,
              "#d8576b"
             ],
             [
              0.6666666666666666,
              "#ed7953"
             ],
             [
              0.7777777777777778,
              "#fb9f3a"
             ],
             [
              0.8888888888888888,
              "#fdca26"
             ],
             [
              1,
              "#f0f921"
             ]
            ],
            "type": "surface"
           }
          ],
          "table": [
           {
            "cells": {
             "fill": {
              "color": "#EBF0F8"
             },
             "line": {
              "color": "white"
             }
            },
            "header": {
             "fill": {
              "color": "#C8D4E3"
             },
             "line": {
              "color": "white"
             }
            },
            "type": "table"
           }
          ]
         },
         "layout": {
          "annotationdefaults": {
           "arrowcolor": "#2a3f5f",
           "arrowhead": 0,
           "arrowwidth": 1
          },
          "autotypenumbers": "strict",
          "coloraxis": {
           "colorbar": {
            "outlinewidth": 0,
            "ticks": ""
           }
          },
          "colorscale": {
           "diverging": [
            [
             0,
             "#8e0152"
            ],
            [
             0.1,
             "#c51b7d"
            ],
            [
             0.2,
             "#de77ae"
            ],
            [
             0.3,
             "#f1b6da"
            ],
            [
             0.4,
             "#fde0ef"
            ],
            [
             0.5,
             "#f7f7f7"
            ],
            [
             0.6,
             "#e6f5d0"
            ],
            [
             0.7,
             "#b8e186"
            ],
            [
             0.8,
             "#7fbc41"
            ],
            [
             0.9,
             "#4d9221"
            ],
            [
             1,
             "#276419"
            ]
           ],
           "sequential": [
            [
             0,
             "#0d0887"
            ],
            [
             0.1111111111111111,
             "#46039f"
            ],
            [
             0.2222222222222222,
             "#7201a8"
            ],
            [
             0.3333333333333333,
             "#9c179e"
            ],
            [
             0.4444444444444444,
             "#bd3786"
            ],
            [
             0.5555555555555556,
             "#d8576b"
            ],
            [
             0.6666666666666666,
             "#ed7953"
            ],
            [
             0.7777777777777778,
             "#fb9f3a"
            ],
            [
             0.8888888888888888,
             "#fdca26"
            ],
            [
             1,
             "#f0f921"
            ]
           ],
           "sequentialminus": [
            [
             0,
             "#0d0887"
            ],
            [
             0.1111111111111111,
             "#46039f"
            ],
            [
             0.2222222222222222,
             "#7201a8"
            ],
            [
             0.3333333333333333,
             "#9c179e"
            ],
            [
             0.4444444444444444,
             "#bd3786"
            ],
            [
             0.5555555555555556,
             "#d8576b"
            ],
            [
             0.6666666666666666,
             "#ed7953"
            ],
            [
             0.7777777777777778,
             "#fb9f3a"
            ],
            [
             0.8888888888888888,
             "#fdca26"
            ],
            [
             1,
             "#f0f921"
            ]
           ]
          },
          "colorway": [
           "#636efa",
           "#EF553B",
           "#00cc96",
           "#ab63fa",
           "#FFA15A",
           "#19d3f3",
           "#FF6692",
           "#B6E880",
           "#FF97FF",
           "#FECB52"
          ],
          "font": {
           "color": "#2a3f5f"
          },
          "geo": {
           "bgcolor": "white",
           "lakecolor": "white",
           "landcolor": "#E5ECF6",
           "showlakes": true,
           "showland": true,
           "subunitcolor": "white"
          },
          "hoverlabel": {
           "align": "left"
          },
          "hovermode": "closest",
          "mapbox": {
           "style": "light"
          },
          "paper_bgcolor": "white",
          "plot_bgcolor": "#E5ECF6",
          "polar": {
           "angularaxis": {
            "gridcolor": "white",
            "linecolor": "white",
            "ticks": ""
           },
           "bgcolor": "#E5ECF6",
           "radialaxis": {
            "gridcolor": "white",
            "linecolor": "white",
            "ticks": ""
           }
          },
          "scene": {
           "xaxis": {
            "backgroundcolor": "#E5ECF6",
            "gridcolor": "white",
            "gridwidth": 2,
            "linecolor": "white",
            "showbackground": true,
            "ticks": "",
            "zerolinecolor": "white"
           },
           "yaxis": {
            "backgroundcolor": "#E5ECF6",
            "gridcolor": "white",
            "gridwidth": 2,
            "linecolor": "white",
            "showbackground": true,
            "ticks": "",
            "zerolinecolor": "white"
           },
           "zaxis": {
            "backgroundcolor": "#E5ECF6",
            "gridcolor": "white",
            "gridwidth": 2,
            "linecolor": "white",
            "showbackground": true,
            "ticks": "",
            "zerolinecolor": "white"
           }
          },
          "shapedefaults": {
           "line": {
            "color": "#2a3f5f"
           }
          },
          "ternary": {
           "aaxis": {
            "gridcolor": "white",
            "linecolor": "white",
            "ticks": ""
           },
           "baxis": {
            "gridcolor": "white",
            "linecolor": "white",
            "ticks": ""
           },
           "bgcolor": "#E5ECF6",
           "caxis": {
            "gridcolor": "white",
            "linecolor": "white",
            "ticks": ""
           }
          },
          "title": {
           "x": 0.05
          },
          "xaxis": {
           "automargin": true,
           "gridcolor": "white",
           "linecolor": "white",
           "ticks": "",
           "title": {
            "standoff": 15
           },
           "zerolinecolor": "white",
           "zerolinewidth": 2
          },
          "yaxis": {
           "automargin": true,
           "gridcolor": "white",
           "linecolor": "white",
           "ticks": "",
           "title": {
            "standoff": 15
           },
           "zerolinecolor": "white",
           "zerolinewidth": 2
          }
         }
        },
        "title": {
         "text": "Actual vs Predicted Values"
        },
        "xaxis": {
         "title": {
          "text": "Actual Values"
         }
        },
        "yaxis": {
         "title": {
          "text": "Predicted Values"
         }
        }
       }
      }
     },
     "metadata": {},
     "output_type": "display_data"
    }
   ],
   "source": [
    "import plotly.graph_objects as go\n",
    "\n",
    "# Predict on the test set\n",
    "y_pred = model.predict(x_test)\n",
    "\n",
    "# Create a scatter plot with actual vs predicted values\n",
    "fig = go.Figure()\n",
    "\n",
    "fig.add_trace(go.Scatter(\n",
    "    x=y_test.flatten(),\n",
    "    y=y_pred,\n",
    "    mode='markers',\n",
    "    name='Actual vs Predicted'\n",
    "))\n",
    "\n",
    "# Add a line representing the ideal case\n",
    "fig.add_trace(go.Scatter(\n",
    "    x=[min(y_test.flatten()), max(y_test.flatten())],\n",
    "    y=[min(y_test.flatten()), max(y_test.flatten())],\n",
    "    mode='lines',\n",
    "    name='Ideal',\n",
    "    line=dict(color='red', dash='dash')\n",
    "))\n",
    "\n",
    "fig.update_layout(\n",
    "    title='Actual vs Predicted Values',\n",
    "    xaxis_title='Actual Values',\n",
    "    yaxis_title='Predicted Values',\n",
    "    showlegend=True,\n",
    ")\n",
    "\n",
    "fig.show()"
   ]
  }
 ],
 "metadata": {
  "kernelspec": {
   "display_name": ".venv",
   "language": "python",
   "name": "python3"
  },
  "language_info": {
   "codemirror_mode": {
    "name": "ipython",
    "version": 3
   },
   "file_extension": ".py",
   "mimetype": "text/x-python",
   "name": "python",
   "nbconvert_exporter": "python",
   "pygments_lexer": "ipython3",
   "version": "3.12.3"
  }
 },
 "nbformat": 4,
 "nbformat_minor": 2
}
